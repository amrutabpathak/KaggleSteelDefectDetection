{
  "nbformat": 4,
  "nbformat_minor": 0,
  "metadata": {
    "kernelspec": {
      "name": "python3",
      "display_name": "Python 3"
    },
    "language_info": {
      "codemirror_mode": {
        "name": "ipython",
        "version": 3
      },
      "file_extension": ".py",
      "mimetype": "text/x-python",
      "name": "python",
      "nbconvert_exporter": "python",
      "pygments_lexer": "ipython3",
      "version": "3.7.4"
    },
    "colab": {
      "name": "steel_defect_detect_defect_non_defect_cnn_reg_drp.ipynb",
      "provenance": [],
      "collapsed_sections": [],
      "toc_visible": true
    },
    "accelerator": "GPU"
  },
  "cells": [
    {
      "cell_type": "code",
      "metadata": {
        "id": "F6d9aH3sIi8r",
        "colab_type": "code",
        "outputId": "e5bb6cf3-93df-4bb2-da31-ec2bc87ac23e",
        "colab": {
          "base_uri": "https://localhost:8080/",
          "height": 190
        }
      },
      "source": [
        "!pip install keras\n",
        "!pip install opencv-python\n"
      ],
      "execution_count": 0,
      "outputs": [
        {
          "output_type": "stream",
          "text": [
            "Requirement already satisfied: keras in /usr/local/lib/python3.6/dist-packages (2.2.5)\n",
            "Requirement already satisfied: six>=1.9.0 in /usr/local/lib/python3.6/dist-packages (from keras) (1.12.0)\n",
            "Requirement already satisfied: pyyaml in /usr/local/lib/python3.6/dist-packages (from keras) (3.13)\n",
            "Requirement already satisfied: h5py in /usr/local/lib/python3.6/dist-packages (from keras) (2.8.0)\n",
            "Requirement already satisfied: numpy>=1.9.1 in /usr/local/lib/python3.6/dist-packages (from keras) (1.17.4)\n",
            "Requirement already satisfied: keras-preprocessing>=1.1.0 in /usr/local/lib/python3.6/dist-packages (from keras) (1.1.0)\n",
            "Requirement already satisfied: scipy>=0.14 in /usr/local/lib/python3.6/dist-packages (from keras) (1.3.3)\n",
            "Requirement already satisfied: keras-applications>=1.0.8 in /usr/local/lib/python3.6/dist-packages (from keras) (1.0.8)\n",
            "Requirement already satisfied: opencv-python in /usr/local/lib/python3.6/dist-packages (4.1.2.30)\n",
            "Requirement already satisfied: numpy>=1.11.3 in /usr/local/lib/python3.6/dist-packages (from opencv-python) (1.17.4)\n"
          ],
          "name": "stdout"
        }
      ]
    },
    {
      "cell_type": "code",
      "metadata": {
        "id": "TOJlh4v2I_AV",
        "colab_type": "code",
        "outputId": "89e78e09-3b03-4dd6-dcd1-ed3fd3b830ba",
        "colab": {
          "base_uri": "https://localhost:8080/",
          "height": 276
        }
      },
      "source": [
        "!pip install matplotlib\n",
        "!pip install pandas\n",
        "!pip install numpy\n",
        "!pip install tqdm\n"
      ],
      "execution_count": 0,
      "outputs": [
        {
          "output_type": "stream",
          "text": [
            "Requirement already satisfied: matplotlib in /usr/local/lib/python3.6/dist-packages (3.1.2)\n",
            "Requirement already satisfied: kiwisolver>=1.0.1 in /usr/local/lib/python3.6/dist-packages (from matplotlib) (1.1.0)\n",
            "Requirement already satisfied: python-dateutil>=2.1 in /usr/local/lib/python3.6/dist-packages (from matplotlib) (2.6.1)\n",
            "Requirement already satisfied: cycler>=0.10 in /usr/local/lib/python3.6/dist-packages (from matplotlib) (0.10.0)\n",
            "Requirement already satisfied: pyparsing!=2.0.4,!=2.1.2,!=2.1.6,>=2.0.1 in /usr/local/lib/python3.6/dist-packages (from matplotlib) (2.4.5)\n",
            "Requirement already satisfied: numpy>=1.11 in /usr/local/lib/python3.6/dist-packages (from matplotlib) (1.17.4)\n",
            "Requirement already satisfied: setuptools in /usr/local/lib/python3.6/dist-packages (from kiwisolver>=1.0.1->matplotlib) (42.0.2)\n",
            "Requirement already satisfied: six>=1.5 in /usr/local/lib/python3.6/dist-packages (from python-dateutil>=2.1->matplotlib) (1.12.0)\n",
            "Requirement already satisfied: pandas in /usr/local/lib/python3.6/dist-packages (0.25.3)\n",
            "Requirement already satisfied: pytz>=2017.2 in /usr/local/lib/python3.6/dist-packages (from pandas) (2018.9)\n",
            "Requirement already satisfied: python-dateutil>=2.6.1 in /usr/local/lib/python3.6/dist-packages (from pandas) (2.6.1)\n",
            "Requirement already satisfied: numpy>=1.13.3 in /usr/local/lib/python3.6/dist-packages (from pandas) (1.17.4)\n",
            "Requirement already satisfied: six>=1.5 in /usr/local/lib/python3.6/dist-packages (from python-dateutil>=2.6.1->pandas) (1.12.0)\n",
            "Requirement already satisfied: numpy in /usr/local/lib/python3.6/dist-packages (1.17.4)\n",
            "Requirement already satisfied: tqdm in /usr/local/lib/python3.6/dist-packages (4.28.1)\n"
          ],
          "name": "stdout"
        }
      ]
    },
    {
      "cell_type": "code",
      "metadata": {
        "id": "qlxDHgp6VbSm",
        "colab_type": "code",
        "outputId": "28083542-afb7-4f31-f573-78c2fc26118d",
        "colab": {
          "base_uri": "https://localhost:8080/",
          "height": 207
        }
      },
      "source": [
        "!pip install kaggle\n",
        "api_token = {\"username\":\"sushilraje\",\"key\":\"0b3bb4d990e2a043805e1a1e2570cd69\"}\n",
        "import json\n",
        "import zipfile\n",
        "import os\n",
        "!echo '{\"username\":\"sushilraje\",\"key\":\"0b3bb4d990e2a043805e1a1e2570cd69\"}' > ~/.kaggle/kaggle.json\n",
        "!echo '{\"username\":\"sushilraje\",\"key\":\"0b3bb4d990e2a043805e1a1e2570cd69\"}' > /content/kaggle.json\n"
      ],
      "execution_count": 0,
      "outputs": [
        {
          "output_type": "stream",
          "text": [
            "Requirement already satisfied: kaggle in /usr/local/lib/python3.6/dist-packages (1.5.6)\n",
            "Requirement already satisfied: urllib3<1.25,>=1.21.1 in /usr/local/lib/python3.6/dist-packages (from kaggle) (1.24.3)\n",
            "Requirement already satisfied: tqdm in /usr/local/lib/python3.6/dist-packages (from kaggle) (4.28.1)\n",
            "Requirement already satisfied: certifi in /usr/local/lib/python3.6/dist-packages (from kaggle) (2019.11.28)\n",
            "Requirement already satisfied: python-slugify in /usr/local/lib/python3.6/dist-packages (from kaggle) (4.0.0)\n",
            "Requirement already satisfied: six>=1.10 in /usr/local/lib/python3.6/dist-packages (from kaggle) (1.12.0)\n",
            "Requirement already satisfied: python-dateutil in /usr/local/lib/python3.6/dist-packages (from kaggle) (2.6.1)\n",
            "Requirement already satisfied: requests in /usr/local/lib/python3.6/dist-packages (from kaggle) (2.21.0)\n",
            "Requirement already satisfied: text-unidecode>=1.3 in /usr/local/lib/python3.6/dist-packages (from python-slugify->kaggle) (1.3)\n",
            "Requirement already satisfied: chardet<3.1.0,>=3.0.2 in /usr/local/lib/python3.6/dist-packages (from requests->kaggle) (3.0.4)\n",
            "Requirement already satisfied: idna<2.9,>=2.5 in /usr/local/lib/python3.6/dist-packages (from requests->kaggle) (2.8)\n"
          ],
          "name": "stdout"
        }
      ]
    },
    {
      "cell_type": "code",
      "metadata": {
        "id": "6jzdVRaWShO9",
        "colab_type": "code",
        "outputId": "a5c82988-54f7-4710-fc15-3c4fd65f2464",
        "colab": {
          "base_uri": "https://localhost:8080/",
          "height": 173
        }
      },
      "source": [
        "import zipfile\n",
        "!chmod 600 /content/kaggle.json\n",
        "!kaggle config path -p /content\n",
        "!kaggle competitions download -c severstal-steel-defect-detection\n",
        "os.chdir('/content/severstal-steel-defect-detection')\n"
      ],
      "execution_count": 0,
      "outputs": [
        {
          "output_type": "stream",
          "text": [
            "Warning: Your Kaggle API key is readable by other users on this system! To fix this, you can run 'chmod 600 /root/.kaggle/kaggle.json'\n",
            "usage: kaggle config [-h] {view,set,unset} ...\n",
            "kaggle config: error: argument command: invalid choice: 'path' (choose from 'view', 'set', 'unset')\n",
            "Warning: Your Kaggle API key is readable by other users on this system! To fix this, you can run 'chmod 600 /root/.kaggle/kaggle.json'\n",
            "Warning: Looks like you're using an outdated API Version, please consider updating (server 1.5.6 / client 1.5.4)\n",
            "train.csv.zip: Skipping, found more recently modified local copy (use --force to force download)\n",
            "sample_submission.csv: Skipping, found more recently modified local copy (use --force to force download)\n",
            "train_images.zip: Skipping, found more recently modified local copy (use --force to force download)\n",
            "test_images.zip: Skipping, found more recently modified local copy (use --force to force download)\n"
          ],
          "name": "stdout"
        }
      ]
    },
    {
      "cell_type": "code",
      "metadata": {
        "id": "rEuDg6ESW4gm",
        "colab_type": "code",
        "outputId": "6a961b26-65f9-43dd-cdf5-4e9ec7aba116",
        "colab": {
          "base_uri": "https://localhost:8080/",
          "height": 69
        }
      },
      "source": [
        "\n",
        "import zipfile\n",
        "for file in os.listdir():\n",
        "  if(zipfile.is_zipfile(file)):\n",
        "    print(\"Found zip file \", file)\n",
        "    zip_ref = zipfile.ZipFile(file, 'r')\n",
        "    zip_ref.extractall()\n",
        "    zip_ref.close()"
      ],
      "execution_count": 0,
      "outputs": [
        {
          "output_type": "stream",
          "text": [
            "Found zip file  train_images.zip\n",
            "Found zip file  train.csv.zip\n",
            "Found zip file  test_images.zip\n"
          ],
          "name": "stdout"
        }
      ]
    },
    {
      "cell_type": "code",
      "metadata": {
        "id": "OUL-lmfGYkSV",
        "colab_type": "code",
        "outputId": "208af218-8c71-4a53-f0c9-49b81e4b24ee",
        "colab": {
          "base_uri": "https://localhost:8080/",
          "height": 35
        }
      },
      "source": [
        "for file in os.listdir():\n",
        "  if file == \"sample_submission.csv\":\n",
        "    print(file)\n"
      ],
      "execution_count": 0,
      "outputs": [
        {
          "output_type": "stream",
          "text": [
            "sample_submission.csv\n"
          ],
          "name": "stdout"
        }
      ]
    },
    {
      "cell_type": "code",
      "metadata": {
        "id": "OmeLZyD8Ig11",
        "colab_type": "code",
        "colab": {}
      },
      "source": [
        "import os\n",
        "import json\n",
        "import random\n",
        "\n",
        "import cv2\n",
        "import keras as keras\n",
        "from keras import backend as K\n",
        "from keras.models import Model\n",
        "from keras import regularizers\n",
        "from keras.layers import Input, Flatten, Dense, BatchNormalization, Dropout, Activation\n",
        "from keras.layers.convolutional import Conv2D, Conv2DTranspose\n",
        "from keras.layers.pooling import MaxPooling2D\n",
        "from keras.layers.merge import concatenate\n",
        "from keras.losses import binary_crossentropy\n",
        "from keras.callbacks import Callback, ModelCheckpoint\n",
        "import matplotlib.pyplot as plt\n",
        "import numpy as np\n",
        "import pandas as pd\n",
        "from tqdm import tqdm\n",
        "from sklearn.model_selection import train_test_split"
      ],
      "execution_count": 0,
      "outputs": []
    },
    {
      "cell_type": "code",
      "metadata": {
        "id": "3Tmg3aYS47D4",
        "colab_type": "code",
        "colab": {}
      },
      "source": [
        "ONLY_CLASSIFY = True\n",
        "IMAGE_CHANNELS = 1"
      ],
      "execution_count": 0,
      "outputs": []
    },
    {
      "cell_type": "markdown",
      "metadata": {
        "id": "xkWcb5l7Ig15",
        "colab_type": "text"
      },
      "source": [
        "## PREPROCESSING"
      ]
    },
    {
      "cell_type": "code",
      "metadata": {
        "_cell_guid": "79c7e3d0-c299-4dcb-8224-4455121ee9b0",
        "_uuid": "d629ff2d2480ee46fbb7e2d37f6b5fab8052498a",
        "id": "Wl0Y0oqrIg16",
        "colab_type": "code",
        "outputId": "869b2dd6-fb1e-4b1b-d2d3-61e41afabdb9",
        "colab": {
          "base_uri": "https://localhost:8080/",
          "height": 198
        }
      },
      "source": [
        "traindf=pd.read_csv('train.csv')\n",
        "traindf['ImageId'] = traindf['ImageId_ClassId'].apply(lambda x: x.split('_')[0])\n",
        "traindf['ClassId'] = traindf['ImageId_ClassId'].apply(lambda x: x.split('_')[1])\n",
        "traindf['hasMask'] = ~ traindf['EncodedPixels'].isna()\n",
        "traindf.head()"
      ],
      "execution_count": 0,
      "outputs": [
        {
          "output_type": "execute_result",
          "data": {
            "text/html": [
              "<div>\n",
              "<style scoped>\n",
              "    .dataframe tbody tr th:only-of-type {\n",
              "        vertical-align: middle;\n",
              "    }\n",
              "\n",
              "    .dataframe tbody tr th {\n",
              "        vertical-align: top;\n",
              "    }\n",
              "\n",
              "    .dataframe thead th {\n",
              "        text-align: right;\n",
              "    }\n",
              "</style>\n",
              "<table border=\"1\" class=\"dataframe\">\n",
              "  <thead>\n",
              "    <tr style=\"text-align: right;\">\n",
              "      <th></th>\n",
              "      <th>ImageId_ClassId</th>\n",
              "      <th>EncodedPixels</th>\n",
              "      <th>ImageId</th>\n",
              "      <th>ClassId</th>\n",
              "      <th>hasMask</th>\n",
              "    </tr>\n",
              "  </thead>\n",
              "  <tbody>\n",
              "    <tr>\n",
              "      <th>0</th>\n",
              "      <td>0002cc93b.jpg_1</td>\n",
              "      <td>29102 12 29346 24 29602 24 29858 24 30114 24 3...</td>\n",
              "      <td>0002cc93b.jpg</td>\n",
              "      <td>1</td>\n",
              "      <td>True</td>\n",
              "    </tr>\n",
              "    <tr>\n",
              "      <th>1</th>\n",
              "      <td>0002cc93b.jpg_2</td>\n",
              "      <td>NaN</td>\n",
              "      <td>0002cc93b.jpg</td>\n",
              "      <td>2</td>\n",
              "      <td>False</td>\n",
              "    </tr>\n",
              "    <tr>\n",
              "      <th>2</th>\n",
              "      <td>0002cc93b.jpg_3</td>\n",
              "      <td>NaN</td>\n",
              "      <td>0002cc93b.jpg</td>\n",
              "      <td>3</td>\n",
              "      <td>False</td>\n",
              "    </tr>\n",
              "    <tr>\n",
              "      <th>3</th>\n",
              "      <td>0002cc93b.jpg_4</td>\n",
              "      <td>NaN</td>\n",
              "      <td>0002cc93b.jpg</td>\n",
              "      <td>4</td>\n",
              "      <td>False</td>\n",
              "    </tr>\n",
              "    <tr>\n",
              "      <th>4</th>\n",
              "      <td>00031f466.jpg_1</td>\n",
              "      <td>NaN</td>\n",
              "      <td>00031f466.jpg</td>\n",
              "      <td>1</td>\n",
              "      <td>False</td>\n",
              "    </tr>\n",
              "  </tbody>\n",
              "</table>\n",
              "</div>"
            ],
            "text/plain": [
              "   ImageId_ClassId  ... hasMask\n",
              "0  0002cc93b.jpg_1  ...    True\n",
              "1  0002cc93b.jpg_2  ...   False\n",
              "2  0002cc93b.jpg_3  ...   False\n",
              "3  0002cc93b.jpg_4  ...   False\n",
              "4  00031f466.jpg_1  ...   False\n",
              "\n",
              "[5 rows x 5 columns]"
            ]
          },
          "metadata": {
            "tags": []
          },
          "execution_count": 60
        }
      ]
    },
    {
      "cell_type": "code",
      "metadata": {
        "id": "Q7MWi9zsIg19",
        "colab_type": "code",
        "outputId": "7a28187c-758c-473b-dff3-bbce2afaff3d",
        "colab": {
          "base_uri": "https://localhost:8080/",
          "height": 215
        }
      },
      "source": [
        "maskcountdf = traindf.groupby('ImageId').agg(np.sum).reset_index()\n",
        "maskcountdf.sort_values('hasMask', ascending=False, inplace=True)\n",
        "print(maskcountdf.shape)\n",
        "maskcountdf.head()"
      ],
      "execution_count": 0,
      "outputs": [
        {
          "output_type": "stream",
          "text": [
            "(12568, 2)\n"
          ],
          "name": "stdout"
        },
        {
          "output_type": "execute_result",
          "data": {
            "text/html": [
              "<div>\n",
              "<style scoped>\n",
              "    .dataframe tbody tr th:only-of-type {\n",
              "        vertical-align: middle;\n",
              "    }\n",
              "\n",
              "    .dataframe tbody tr th {\n",
              "        vertical-align: top;\n",
              "    }\n",
              "\n",
              "    .dataframe thead th {\n",
              "        text-align: right;\n",
              "    }\n",
              "</style>\n",
              "<table border=\"1\" class=\"dataframe\">\n",
              "  <thead>\n",
              "    <tr style=\"text-align: right;\">\n",
              "      <th></th>\n",
              "      <th>ImageId</th>\n",
              "      <th>hasMask</th>\n",
              "    </tr>\n",
              "  </thead>\n",
              "  <tbody>\n",
              "    <tr>\n",
              "      <th>10803</th>\n",
              "      <td>db4867ee8.jpg</td>\n",
              "      <td>3.0</td>\n",
              "    </tr>\n",
              "    <tr>\n",
              "      <th>11776</th>\n",
              "      <td>ef24da2ba.jpg</td>\n",
              "      <td>3.0</td>\n",
              "    </tr>\n",
              "    <tr>\n",
              "      <th>6284</th>\n",
              "      <td>7f30b9c64.jpg</td>\n",
              "      <td>2.0</td>\n",
              "    </tr>\n",
              "    <tr>\n",
              "      <th>9421</th>\n",
              "      <td>bf0c81db6.jpg</td>\n",
              "      <td>2.0</td>\n",
              "    </tr>\n",
              "    <tr>\n",
              "      <th>9615</th>\n",
              "      <td>c314f43f3.jpg</td>\n",
              "      <td>2.0</td>\n",
              "    </tr>\n",
              "  </tbody>\n",
              "</table>\n",
              "</div>"
            ],
            "text/plain": [
              "             ImageId  hasMask\n",
              "10803  db4867ee8.jpg      3.0\n",
              "11776  ef24da2ba.jpg      3.0\n",
              "6284   7f30b9c64.jpg      2.0\n",
              "9421   bf0c81db6.jpg      2.0\n",
              "9615   c314f43f3.jpg      2.0"
            ]
          },
          "metadata": {
            "tags": []
          },
          "execution_count": 61
        }
      ]
    },
    {
      "cell_type": "code",
      "metadata": {
        "id": "vR_nhzWNIg1_",
        "colab_type": "code",
        "colab": {}
      },
      "source": [
        "sub_df = pd.read_csv('sample_submission.csv')\n",
        "sub_df['ImageId'] = sub_df['ImageId_ClassId'].apply(lambda x: x.split('_')[0])\n",
        "test_imgs = pd.DataFrame(sub_df['ImageId'].unique(), columns=['ImageId'])"
      ],
      "execution_count": 0,
      "outputs": []
    },
    {
      "cell_type": "markdown",
      "metadata": {
        "id": "r6AK65QGIg2C",
        "colab_type": "text"
      },
      "source": [
        "## UTILITY"
      ]
    },
    {
      "cell_type": "code",
      "metadata": {
        "id": "3BsboxNrIg2D",
        "colab_type": "code",
        "colab": {}
      },
      "source": [
        "def mask2rle(img):\n",
        "    '''\n",
        "    img: numpy array, 1 - mask, 0 - background\n",
        "    Returns run length as string formated\n",
        "    '''\n",
        "    pixels= img.T.flatten()\n",
        "    pixels = np.concatenate([[0], pixels, [0]])\n",
        "    runs = np.where(pixels[1:] != pixels[:-1])[0] + 1\n",
        "    runs[1::2] -= runs[::2]\n",
        "    return ' '.join(str(x) for x in runs)\n",
        "\n",
        "def rle2mask(mask_rle, shape=(256,1600)):\n",
        "    '''\n",
        "    mask_rle: run-length as string formated (start length)\n",
        "    shape: (width,height) of array to return \n",
        "    Returns numpy array, 1 - mask, 0 - background\n",
        "\n",
        "    '''\n",
        "    s = mask_rle.split()\n",
        "    starts, lengths = [np.asarray(x, dtype=int) for x in (s[0:][::2], s[1:][::2])]\n",
        "    starts -= 1\n",
        "    ends = starts + lengths\n",
        "    img = np.zeros(shape[0]*shape[1], dtype=np.uint8)\n",
        "    for lo, hi in zip(starts, ends):\n",
        "        img[lo:hi] = 1\n",
        "    return img.reshape(shape).T"
      ],
      "execution_count": 0,
      "outputs": []
    },
    {
      "cell_type": "code",
      "metadata": {
        "id": "9toxiVQJIg2F",
        "colab_type": "code",
        "colab": {}
      },
      "source": [
        "def build_masks(rles, input_shape):\n",
        "    depth = len(rles)\n",
        "    height, width = input_shape\n",
        "    masks = np.zeros((height, width, depth))\n",
        "    \n",
        "    for i, rle in enumerate(rles):\n",
        "        if type(rle) is str:\n",
        "            masks[:, :, i] = rle2mask(rle, (width, height))\n",
        "    \n",
        "    return masks\n",
        "\n",
        "def build_rles(masks):\n",
        "    width, height, depth = masks.shape\n",
        "    \n",
        "    rles = [mask2rle(masks[:, :, i])\n",
        "            for i in range(depth)]\n",
        "    \n",
        "    return rles\n",
        "\n",
        "def rles_classvect(rles):\n",
        "    depth = 2\n",
        "    masks = np.zeros((depth))\n",
        "    masks[0] = 1\n",
        "    masks[1] = 0\n",
        "    for i, rle in enumerate(rles):\n",
        "      if type(rle) is str:\n",
        "          masks[0] = 0\n",
        "          masks[1] = 1\n",
        "    return masks\n",
        "\n",
        "def random_flip(img):\n",
        "  seed = random.randint(1,5)\n",
        "  if seed % 3 == 0:\n",
        "    img = np.flip(img, 0)\n",
        "  if seed % 4 == 0:\n",
        "    img = np.flip(img, 1)\n",
        "  return img"
      ],
      "execution_count": 0,
      "outputs": []
    },
    {
      "cell_type": "code",
      "metadata": {
        "id": "WatdOrspIg2H",
        "colab_type": "code",
        "colab": {}
      },
      "source": [
        "def dice_coef(y_true, y_pred, smooth=1):\n",
        "    y_true_f = K.flatten(y_true)\n",
        "    y_pred_f = K.flatten(y_pred)\n",
        "    intersection = K.sum(y_true_f * y_pred_f)\n",
        "    return (2. * intersection + smooth) / (K.sum(y_true_f) + K.sum(y_pred_f) + smooth)\n",
        "\n",
        "def dice_loss(y_true, y_pred):\n",
        "    smooth = 1.\n",
        "    y_true_f = K.flatten(y_true)\n",
        "    y_pred_f = K.flatten(y_pred)\n",
        "    intersection = y_true_f * y_pred_f\n",
        "    score = (2. * K.sum(intersection) + smooth) / (K.sum(y_true_f) + K.sum(y_pred_f) + smooth)\n",
        "    return 1. - score\n",
        "\n",
        "def bce_dice_loss(y_true, y_pred):\n",
        "    return binary_crossentropy(y_true, y_pred) + dice_loss(y_true, y_pred)"
      ],
      "execution_count": 0,
      "outputs": []
    },
    {
      "cell_type": "markdown",
      "metadata": {
        "id": "9lZ27V6IIg2J",
        "colab_type": "text"
      },
      "source": [
        "## Sample"
      ]
    },
    {
      "cell_type": "code",
      "metadata": {
        "id": "LkbZDwtwIg2J",
        "colab_type": "code",
        "outputId": "f7d010b1-8c14-4f70-f522-ceb263617d47",
        "colab": {
          "base_uri": "https://localhost:8080/",
          "height": 678
        }
      },
      "source": [
        "#/kaggle/input/severstal-steel-defect-detection/train_images/910540b7d.jpg\n",
        "sample_filename = '910540b7d.jpg'\n",
        "sample_image_df = traindf[traindf['ImageId'] == sample_filename]\n",
        "sample_path = f\"{sample_image_df['ImageId'].iloc[0]}\"\n",
        "sample_img = cv2.imread(sample_path)\n",
        "sample_rles = sample_image_df['EncodedPixels'].values\n",
        "sample_masks = build_masks(sample_rles, input_shape=(256, 1600))\n",
        "\n",
        "fig, axs = plt.subplots(5, figsize=(12, 12))\n",
        "axs[0].imshow(sample_img)\n",
        "axs[0].axis('off')\n",
        "\n",
        "for i in range(4):\n",
        "    axs[i+1].imshow(sample_masks[:, :, i])\n",
        "    axs[i+1].axis('off')"
      ],
      "execution_count": 0,
      "outputs": [
        {
          "output_type": "display_data",
          "data": {
            "image/png": "[encoded data removed]",
            "text/plain": [
              "<Figure size 864x864 with 5 Axes>"
            ]
          },
          "metadata": {
            "tags": []
          }
        }
      ]
    },
    {
      "cell_type": "markdown",
      "metadata": {
        "id": "DAfhj4KcIg2M",
        "colab_type": "text"
      },
      "source": [
        "## Data Generation"
      ]
    },
    {
      "cell_type": "code",
      "metadata": {
        "id": "cC__6-PXIg2M",
        "colab_type": "code",
        "colab": {}
      },
      "source": [
        "class DataGenerator(keras.utils.Sequence):\n",
        "    'Generates data for Keras'\n",
        "    def __init__(self, list_IDs, df, target_df=None, mode='fit',\n",
        "                 base_path='/content/severstal-steel-defect-detection',\n",
        "                 batch_size=32, dim=(256, 1600), n_channels=1,\n",
        "                 n_classes=2, random_state=2019, shuffle=True, \n",
        "                 classify=False):\n",
        "        self.dim = dim\n",
        "        self.batch_size = batch_size\n",
        "        self.df = df\n",
        "        self.mode = mode\n",
        "        self.base_path = base_path\n",
        "        self.target_df = target_df\n",
        "        self.list_IDs = list_IDs\n",
        "        self.n_channels = n_channels\n",
        "        self.n_classes = n_classes\n",
        "        self.shuffle = shuffle\n",
        "        self.random_state = random_state\n",
        "        self.classify = classify\n",
        "        \n",
        "        self.on_epoch_end()\n",
        "\n",
        "    def __len__(self):\n",
        "        'Denotes the number of batches per epoch'\n",
        "        return int(np.floor(len(self.list_IDs) / self.batch_size))\n",
        "\n",
        "    def __getitem__(self, index):\n",
        "        'Generate one batch of data'\n",
        "        # Generate indexes of the batch\n",
        "        indexes = self.indexes[index*self.batch_size:(index+1)*self.batch_size]\n",
        "\n",
        "        # Find list of IDs\n",
        "        list_IDs_batch = [self.list_IDs[k] for k in indexes]\n",
        "        \n",
        "        X = self.__generate_X(list_IDs_batch)\n",
        "        \n",
        "        if self.mode == 'fit':\n",
        "            y = self.__generate_y(list_IDs_batch, self.classify)\n",
        "            return X, y\n",
        "        \n",
        "        elif self.mode == 'predict':\n",
        "            return X\n",
        "\n",
        "        else:\n",
        "            raise AttributeError('The mode parameter should be set to \"fit\" or \"predict\".')\n",
        "    \n",
        "    def on_epoch_end(self):\n",
        "        'Updates indexes after each epoch'\n",
        "        self.indexes = np.arange(len(self.list_IDs))\n",
        "        if self.shuffle == True:\n",
        "            np.random.seed(self.random_state)\n",
        "            np.random.shuffle(self.indexes)\n",
        "    \n",
        "    def __generate_X(self, list_IDs_batch):\n",
        "        'Generates data containing batch_size samples'\n",
        "        # Initialization\n",
        "        X = np.empty((self.batch_size, *self.dim, self.n_channels))\n",
        "        \n",
        "        # Generate data\n",
        "        for i, ID in enumerate(list_IDs_batch):\n",
        "            im_name = self.df['ImageId'].iloc[ID]\n",
        "            img_path = f\"{self.base_path}/{im_name}\"\n",
        "            if self.n_channels == 3:\n",
        "              img = self.__load_rgb(img_path)\n",
        "            else:\n",
        "              img = self.__load_grayscale(img_path)\n",
        "            img = random_flip(img)\n",
        "            \n",
        "            # Store samples\n",
        "            X[i,] = img\n",
        "        return X\n",
        "\n",
        "    def __generate_y(self, list_IDs_batch, classify=False):\n",
        "        y = np.empty((self.batch_size, *self.dim, self.n_classes), dtype=int)\n",
        "        if classify:\n",
        "          y = np.empty((self.batch_size, self.n_classes), dtype=int)\n",
        "        \n",
        "        for i, ID in enumerate(list_IDs_batch):\n",
        "            im_name = self.df['ImageId'].iloc[ID]\n",
        "            image_df = self.target_df[self.target_df['ImageId'] == im_name]\n",
        "            rles = image_df['EncodedPixels'].values\n",
        "            if classify:\n",
        "              masks = rles_classvect(rles)\n",
        "            else:\n",
        "              masks = build_masks(rles, input_shape=self.dim)\n",
        "            y[i, ] = masks\n",
        "        return y\n",
        "    \n",
        "    def __load_grayscale(self, img_path):\n",
        "        img = cv2.imread(img_path, cv2.IMREAD_GRAYSCALE)\n",
        "        img = img.astype(np.float32) / 255.\n",
        "        img = np.expand_dims(img, axis=-1)\n",
        "\n",
        "        return img\n",
        "    \n",
        "    def __load_rgb(self, img_path):\n",
        "        img = cv2.imread(img_path)\n",
        "        img = cv2.cvtColor(img, cv2.COLOR_BGR2RGB)\n",
        "        img = img.astype(np.float32) / 255.\n",
        "        return img\n"
      ],
      "execution_count": 0,
      "outputs": []
    },
    {
      "cell_type": "code",
      "metadata": {
        "id": "HsrlhlZHIg2O",
        "colab_type": "code",
        "colab": {}
      },
      "source": [
        "BATCH_SIZE = 16\n",
        "\n",
        "train_idx, val_idx = train_test_split(\n",
        "    maskcountdf.index, random_state=2019, test_size=0.15\n",
        ")\n",
        "\n",
        "train_generator = DataGenerator(\n",
        "    train_idx, \n",
        "    df=maskcountdf,\n",
        "    target_df=traindf,\n",
        "    batch_size=BATCH_SIZE, \n",
        "    n_classes=2,\n",
        "    n_channels=IMAGE_CHANNELS,\n",
        "    classify=ONLY_CLASSIFY\n",
        ")\n",
        "\n",
        "val_generator = DataGenerator(\n",
        "    val_idx, \n",
        "    df=maskcountdf,\n",
        "    target_df=traindf,\n",
        "    batch_size=BATCH_SIZE, \n",
        "    n_classes=2,\n",
        "    n_channels=IMAGE_CHANNELS,\n",
        "    classify=ONLY_CLASSIFY\n",
        ")"
      ],
      "execution_count": 0,
      "outputs": []
    },
    {
      "cell_type": "code",
      "metadata": {
        "id": "6nwZIG7uIg2Q",
        "colab_type": "code",
        "colab": {}
      },
      "source": [
        "def build_model(input_shape):\n",
        "    \"\"\"\n",
        "    inputs = Input(input_shape)\n",
        "\n",
        "    c1 = Conv2D(8, (3, 3), activation='relu', padding='same') (inputs)\n",
        "    c1 = Conv2D(8, (3, 3), activation='relu', padding='same') (c1)\n",
        "    p1 = MaxPooling2D((2, 2)) (c1)\n",
        "\n",
        "    c2 = Conv2D(16, (3, 3), activation='relu', padding='same') (p1)\n",
        "    c2 = Conv2D(16, (3, 3), activation='relu', padding='same') (c2)\n",
        "    p2 = MaxPooling2D((2, 2)) (c2)\n",
        "\n",
        "    c3 = Conv2D(32, (3, 3), activation='relu', padding='same') (p2)\n",
        "    c3 = Conv2D(32, (3, 3), activation='relu', padding='same') (c3)\n",
        "    p3 = MaxPooling2D((2, 2)) (c3)\n",
        "\n",
        "    c4 = Conv2D(64, (3, 3), activation='relu', padding='same') (p3)\n",
        "    c4 = Conv2D(64, (3, 3), activation='relu', padding='same') (c4)\n",
        "    p4 = MaxPooling2D(pool_size=(2, 2)) (c4)\n",
        "\n",
        "    c5 = Conv2D(64, (3, 3), activation='relu', padding='same') (p4)\n",
        "    c5 = Conv2D(64, (3, 3), activation='relu', padding='same') (c5)\n",
        "    p5 = MaxPooling2D(pool_size=(2, 2)) (c5)\n",
        "\n",
        "    c55 = Conv2D(128, (3, 3), activation='relu', padding='same') (p5)\n",
        "    c55 = Conv2D(128, (3, 3), activation='relu', padding='same') (c55)\n",
        "\n",
        "    u6 = Conv2DTranspose(64, (2, 2), strides=(2, 2), padding='same') (c55)\n",
        "    u6 = concatenate([u6, c5])\n",
        "    c6 = Conv2D(64, (3, 3), activation='relu', padding='same') (u6)\n",
        "    c6 = Conv2D(64, (3, 3), activation='relu', padding='same') (c6)\n",
        "\n",
        "    u71 = Conv2DTranspose(32, (2, 2), strides=(2, 2), padding='same') (c6)\n",
        "    u71 = concatenate([u71, c4])\n",
        "    c71 = Conv2D(32, (3, 3), activation='relu', padding='same') (u71)\n",
        "    c61 = Conv2D(32, (3, 3), activation='relu', padding='same') (c71)\n",
        "\n",
        "    u7 = Conv2DTranspose(32, (2, 2), strides=(2, 2), padding='same') (c61)\n",
        "    u7 = concatenate([u7, c3])\n",
        "    c7 = Conv2D(32, (3, 3), activation='relu', padding='same') (u7)\n",
        "    c7 = Conv2D(32, (3, 3), activation='relu', padding='same') (c7)\n",
        "\n",
        "    u8 = Conv2DTranspose(16, (2, 2), strides=(2, 2), padding='same') (c7)\n",
        "    u8 = concatenate([u8, c2])\n",
        "    c8 = Conv2D(16, (3, 3), activation='relu', padding='same') (u8)\n",
        "    c8 = Conv2D(16, (3, 3), activation='relu', padding='same') (c8)\n",
        "\n",
        "    u9 = Conv2DTranspose(8, (2, 2), strides=(2, 2), padding='same') (c8)\n",
        "    u9 = concatenate([u9, c1], axis=3)\n",
        "    c9 = Conv2D(8, (3, 3), activation='relu', padding='same') (u9)\n",
        "    c9 = Conv2D(8, (3, 3), activation='relu', padding='same') (c9)\n",
        "\n",
        "    f10 = Flatten() (c9)\n",
        "    d10 = Dense(16, activation='softmax') (f10)\n",
        "    #d11 = Dense(16, activation='softmax') (d10)\n",
        "    d12 = Dense(1, activation='softmax') (d10)\n",
        "\n",
        "    outputs = d12\n",
        "    model = Model(inputs=[inputs], outputs=[outputs])\n",
        "    \n",
        "    model.compile(optimizer='adam', loss=bce_dice_loss, metrics=[dice_coef])\n",
        "    \"\"\"\n",
        "    inputs = Input(input_shape)\n",
        "\n",
        "    weight_decay = 1e-3\n",
        "\n",
        "    c1 = Conv2D(8, (3, 3), activation='relu', padding='same', kernel_regularizer=regularizers.l2(weight_decay)) (inputs)\n",
        "    #c1 = Conv2D(8, (3, 3), activation='relu', padding='same') (c1)\n",
        "    b1 = BatchNormalization() (c1)\n",
        "    p1 = MaxPooling2D((2, 2)) (b1)\n",
        "    \n",
        "\n",
        "    c2 = Conv2D(16, (3, 3), activation='relu', padding='same', kernel_regularizer=regularizers.l2(weight_decay)) (p1)\n",
        "    #c2 = Conv2D(16, (3, 3), activation='relu', padding='same') (c2)\n",
        "    b2 = BatchNormalization() (c2)\n",
        "    p2 = MaxPooling2D((2, 2)) (b2)\n",
        "    \n",
        "\n",
        "    c3 = Conv2D(32, (3, 3), activation='relu', padding='same', kernel_regularizer=regularizers.l2(weight_decay)) (p2)\n",
        "    #c3 = Conv2D(32, (3, 3), activation='relu', padding='same') (c3)\n",
        "    b3 = BatchNormalization() (c3)\n",
        "    p3 = MaxPooling2D((2, 2)) (b3)\n",
        "    d3 = Dropout(0.3) (p3)\n",
        "\n",
        "    c4 = Conv2D(16, (3, 3), activation='relu', padding='same', kernel_regularizer=regularizers.l2(weight_decay)) (d3)\n",
        "    #c4 = Conv2D(16, (3, 3), activation='relu', padding='same') (c2)\n",
        "    b4 = BatchNormalization() (c4)\n",
        "    p4 = MaxPooling2D((2, 2)) (b4)\n",
        "\n",
        "    c5 = Conv2D(8, (3, 3), activation='relu', padding='same', kernel_regularizer=regularizers.l2(weight_decay)) (p4)\n",
        "    b5 = BatchNormalization() (c5)\n",
        "    #c5 = Conv2D(8, (3, 3), activation='relu', padding='same') (c5)\n",
        "    p5 = MaxPooling2D((2, 2)) (b5)\n",
        "    d5 = Dropout(0.3) (p5)\n",
        "\n",
        "    f6 = Flatten() (d5)\n",
        "    #d6 = Dense(16, activation='softmax') (f6)\n",
        "    d6 = Dense(2, activation='softmax') (f6)\n",
        "\n",
        "    outputs = d6\n",
        "\n",
        "    model = Model(inputs=[inputs], outputs=[outputs])\n",
        "    \n",
        "      model.compile(\n",
        "          optimizer=keras.optimizers.SGD(), \n",
        "          loss=keras.losses.categorical_crossentropy, \n",
        "          metrics=[keras.metrics.categorical_accuracy])\n",
        "    return model"
      ],
      "execution_count": 0,
      "outputs": []
    },
    {
      "cell_type": "code",
      "metadata": {
        "id": "qqSfynzbIg2R",
        "colab_type": "code",
        "outputId": "a32697bb-6443-4089-ff2b-12201fa2cec6",
        "colab": {
          "base_uri": "https://localhost:8080/",
          "height": 918
        }
      },
      "source": [
        "model = build_model((256, 1600, 1))\n",
        "model.summary()"
      ],
      "execution_count": 0,
      "outputs": [
        {
          "output_type": "stream",
          "text": [
            "WARNING:tensorflow:From /usr/local/lib/python3.6/dist-packages/keras/backend/tensorflow_backend.py:3733: calling dropout (from tensorflow.python.ops.nn_ops) with keep_prob is deprecated and will be removed in a future version.\n",
            "Instructions for updating:\n",
            "Please use `rate` instead of `keep_prob`. Rate should be set to `rate = 1 - keep_prob`.\n",
            "Model: \"model_2\"\n",
            "_________________________________________________________________\n",
            "Layer (type)                 Output Shape              Param #   \n",
            "=================================================================\n",
            "input_4 (InputLayer)         (None, 256, 1600, 1)      0         \n",
            "_________________________________________________________________\n",
            "conv2d_6 (Conv2D)            (None, 256, 1600, 8)      80        \n",
            "_________________________________________________________________\n",
            "batch_normalization_6 (Batch (None, 256, 1600, 8)      32        \n",
            "_________________________________________________________________\n",
            "max_pooling2d_6 (MaxPooling2 (None, 128, 800, 8)       0         \n",
            "_________________________________________________________________\n",
            "conv2d_7 (Conv2D)            (None, 128, 800, 16)      1168      \n",
            "_________________________________________________________________\n",
            "batch_normalization_7 (Batch (None, 128, 800, 16)      64        \n",
            "_________________________________________________________________\n",
            "max_pooling2d_7 (MaxPooling2 (None, 64, 400, 16)       0         \n",
            "_________________________________________________________________\n",
            "conv2d_8 (Conv2D)            (None, 64, 400, 32)       4640      \n",
            "_________________________________________________________________\n",
            "batch_normalization_8 (Batch (None, 64, 400, 32)       128       \n",
            "_________________________________________________________________\n",
            "max_pooling2d_8 (MaxPooling2 (None, 32, 200, 32)       0         \n",
            "_________________________________________________________________\n",
            "dropout_1 (Dropout)          (None, 32, 200, 32)       0         \n",
            "_________________________________________________________________\n",
            "conv2d_9 (Conv2D)            (None, 32, 200, 16)       4624      \n",
            "_________________________________________________________________\n",
            "batch_normalization_9 (Batch (None, 32, 200, 16)       64        \n",
            "_________________________________________________________________\n",
            "max_pooling2d_9 (MaxPooling2 (None, 16, 100, 16)       0         \n",
            "_________________________________________________________________\n",
            "conv2d_10 (Conv2D)           (None, 16, 100, 8)        1160      \n",
            "_________________________________________________________________\n",
            "batch_normalization_10 (Batc (None, 16, 100, 8)        32        \n",
            "_________________________________________________________________\n",
            "max_pooling2d_10 (MaxPooling (None, 8, 50, 8)          0         \n",
            "_________________________________________________________________\n",
            "dropout_2 (Dropout)          (None, 8, 50, 8)          0         \n",
            "_________________________________________________________________\n",
            "flatten_2 (Flatten)          (None, 3200)              0         \n",
            "_________________________________________________________________\n",
            "dense_2 (Dense)              (None, 2)                 6402      \n",
            "=================================================================\n",
            "Total params: 18,394\n",
            "Trainable params: 18,234\n",
            "Non-trainable params: 160\n",
            "_________________________________________________________________\n"
          ],
          "name": "stdout"
        }
      ]
    },
    {
      "cell_type": "code",
      "metadata": {
        "id": "HUUQWt-vIg2T",
        "colab_type": "code",
        "outputId": "0784aa92-721f-4109-fd9a-8fba80bc71e3",
        "colab": {
          "base_uri": "https://localhost:8080/",
          "height": 1000
        }
      },
      "source": [
        "checkpoint = ModelCheckpoint(\n",
        "    'simple_cnn_reg_drp_model.h5', \n",
        "    monitor='val_categorical_accuracy', \n",
        "    verbose=0, \n",
        "    save_best_only=True, \n",
        "    save_weights_only=False,\n",
        "    mode='auto'\n",
        ")\n",
        "\n",
        "history = model.fit_generator(\n",
        "    train_generator,\n",
        "    validation_data=val_generator,\n",
        "    callbacks=[checkpoint],\n",
        "    use_multiprocessing=True,\n",
        "    epochs=70\n",
        ")"
      ],
      "execution_count": 0,
      "outputs": [
        {
          "output_type": "stream",
          "text": [
            "Epoch 1/70\n",
            "667/667 [==============================] - 189s 283ms/step - loss: 0.8521 - categorical_accuracy: 0.6630 - val_loss: 0.7456 - val_categorical_accuracy: 0.6261\n",
            "Epoch 2/70\n",
            "667/667 [==============================] - 185s 278ms/step - loss: 0.5907 - categorical_accuracy: 0.7314 - val_loss: 0.5997 - val_categorical_accuracy: 0.7073\n",
            "Epoch 3/70\n",
            "667/667 [==============================] - 187s 280ms/step - loss: 0.5481 - categorical_accuracy: 0.7553 - val_loss: 0.6516 - val_categorical_accuracy: 0.6645\n",
            "Epoch 4/70\n",
            "\n",
            "667/667 [==============================] - 192s 287ms/step - loss: 0.5249 - categorical_accuracy: 0.7748 - val_loss: 0.6062 - val_categorical_accuracy: 0.7366\n",
            "Epoch 5/70\n",
            "667/667 [==============================] - 195s 292ms/step - loss: 0.5086 - categorical_accuracy: 0.7807 - val_loss: 0.6027 - val_categorical_accuracy: 0.7014\n",
            "Epoch 6/70\n",
            "667/667 [==============================] - 197s 295ms/step - loss: 0.4909 - categorical_accuracy: 0.7946 - val_loss: 1.0765 - val_categorical_accuracy: 0.6603\n",
            "Epoch 7/70\n",
            "667/667 [==============================] - 195s 292ms/step - loss: 0.4674 - categorical_accuracy: 0.8062 - val_loss: 0.6984 - val_categorical_accuracy: 0.7115\n",
            "Epoch 8/70\n",
            "667/667 [==============================] - 188s 282ms/step - loss: 0.4568 - categorical_accuracy: 0.8141 - val_loss: 7.1639 - val_categorical_accuracy: 0.4696\n",
            "Epoch 9/70\n",
            "667/667 [==============================] - 189s 284ms/step - loss: 0.4491 - categorical_accuracy: 0.8173 - val_loss: 2.2999 - val_categorical_accuracy: 0.5118\n",
            "Epoch 10/70\n",
            "667/667 [==============================] - 190s 285ms/step - loss: 0.4331 - categorical_accuracy: 0.8334 - val_loss: 0.7739 - val_categorical_accuracy: 0.6533\n",
            "Epoch 11/70\n",
            "667/667 [==============================] - 190s 285ms/step - loss: 0.4193 - categorical_accuracy: 0.8379 - val_loss: 1.8841 - val_categorical_accuracy: 0.5684\n",
            "Epoch 12/70\n",
            "667/667 [==============================] - 183s 274ms/step - loss: 0.4162 - categorical_accuracy: 0.8397 - val_loss: 0.5597 - val_categorical_accuracy: 0.7837\n",
            "Epoch 13/70\n",
            "667/667 [==============================] - 184s 275ms/step - loss: 0.4036 - categorical_accuracy: 0.8422 - val_loss: 6.1766 - val_categorical_accuracy: 0.4658\n",
            "Epoch 14/70\n",
            "667/667 [==============================] - 188s 282ms/step - loss: 0.3981 - categorical_accuracy: 0.8491 - val_loss: 0.6158 - val_categorical_accuracy: 0.7366\n",
            "Epoch 15/70\n",
            "667/667 [==============================] - 190s 285ms/step - loss: 0.3904 - categorical_accuracy: 0.8530 - val_loss: 0.4684 - val_categorical_accuracy: 0.8146\n",
            "Epoch 16/70\n",
            "667/667 [==============================] - 189s 283ms/step - loss: 0.3879 - categorical_accuracy: 0.8514 - val_loss: 1.3066 - val_categorical_accuracy: 0.5983\n",
            "Epoch 17/70\n",
            "667/667 [==============================] - 187s 281ms/step - loss: 0.3821 - categorical_accuracy: 0.8531 - val_loss: 1.2662 - val_categorical_accuracy: 0.6074\n",
            "Epoch 18/70\n",
            "667/667 [==============================] - 189s 283ms/step - loss: 0.3737 - categorical_accuracy: 0.8582 - val_loss: 1.2939 - val_categorical_accuracy: 0.5855\n",
            "Epoch 19/70\n",
            "667/667 [==============================] - 189s 283ms/step - loss: 0.3723 - categorical_accuracy: 0.8604 - val_loss: 0.4176 - val_categorical_accuracy: 0.8269\n",
            "Epoch 20/70\n",
            "667/667 [==============================] - 188s 282ms/step - loss: 0.3690 - categorical_accuracy: 0.8611 - val_loss: 1.4151 - val_categorical_accuracy: 0.5876\n",
            "Epoch 21/70\n",
            "667/667 [==============================] - 188s 282ms/step - loss: 0.3642 - categorical_accuracy: 0.8635 - val_loss: 1.0156 - val_categorical_accuracy: 0.6538\n",
            "Epoch 22/70\n",
            "667/667 [==============================] - 188s 282ms/step - loss: 0.3584 - categorical_accuracy: 0.8644 - val_loss: 0.8797 - val_categorical_accuracy: 0.6635\n",
            "Epoch 23/70\n",
            "667/667 [==============================] - 189s 283ms/step - loss: 0.3597 - categorical_accuracy: 0.8682 - val_loss: 1.9153 - val_categorical_accuracy: 0.5524\n",
            "Epoch 24/70\n",
            "667/667 [==============================] - 189s 283ms/step - loss: 0.3505 - categorical_accuracy: 0.8682 - val_loss: 0.7781 - val_categorical_accuracy: 0.6597\n",
            "Epoch 25/70\n",
            "667/667 [==============================] - 187s 280ms/step - loss: 0.3503 - categorical_accuracy: 0.8713 - val_loss: 0.9535 - val_categorical_accuracy: 0.6325\n",
            "Epoch 26/70\n",
            "667/667 [==============================] - 186s 279ms/step - loss: 0.3412 - categorical_accuracy: 0.8729 - val_loss: 2.4338 - val_categorical_accuracy: 0.5021\n",
            "Epoch 27/70\n",
            "667/667 [==============================] - 189s 283ms/step - loss: 0.3365 - categorical_accuracy: 0.8744 - val_loss: 0.5126 - val_categorical_accuracy: 0.8072\n",
            "Epoch 28/70\n",
            "667/667 [==============================] - 184s 276ms/step - loss: 0.3396 - categorical_accuracy: 0.8723 - val_loss: 0.3544 - val_categorical_accuracy: 0.8622\n",
            "Epoch 29/70\n",
            "667/667 [==============================] - 186s 279ms/step - loss: 0.3388 - categorical_accuracy: 0.8717 - val_loss: 0.4581 - val_categorical_accuracy: 0.8141\n",
            "Epoch 30/70\n",
            "667/667 [==============================] - 185s 278ms/step - loss: 0.3296 - categorical_accuracy: 0.8768 - val_loss: 1.6147 - val_categorical_accuracy: 0.5748\n",
            "Epoch 31/70\n",
            "667/667 [==============================] - 183s 274ms/step - loss: 0.3254 - categorical_accuracy: 0.8805 - val_loss: 0.4839 - val_categorical_accuracy: 0.8061\n",
            "Epoch 32/70\n",
            "667/667 [==============================] - 184s 275ms/step - loss: 0.3307 - categorical_accuracy: 0.8755 - val_loss: 0.8678 - val_categorical_accuracy: 0.7121\n",
            "Epoch 33/70\n",
            "667/667 [==============================] - 184s 276ms/step - loss: 0.3216 - categorical_accuracy: 0.8778 - val_loss: 1.5406 - val_categorical_accuracy: 0.5769\n",
            "Epoch 34/70\n",
            "667/667 [==============================] - 184s 276ms/step - loss: 0.3204 - categorical_accuracy: 0.8821 - val_loss: 0.3533 - val_categorical_accuracy: 0.8627\n",
            "Epoch 35/70\n",
            "667/667 [==============================] - 186s 280ms/step - loss: 0.3189 - categorical_accuracy: 0.8818 - val_loss: 0.3978 - val_categorical_accuracy: 0.8440\n",
            "Epoch 36/70\n",
            "667/667 [==============================] - 186s 278ms/step - loss: 0.3099 - categorical_accuracy: 0.8860 - val_loss: 2.3711 - val_categorical_accuracy: 0.5427\n",
            "Epoch 37/70\n",
            "667/667 [==============================] - 184s 275ms/step - loss: 0.3137 - categorical_accuracy: 0.8810 - val_loss: 0.6584 - val_categorical_accuracy: 0.7596\n",
            "Epoch 38/70\n",
            "667/667 [==============================] - 185s 277ms/step - loss: 0.3052 - categorical_accuracy: 0.8881 - val_loss: 0.8552 - val_categorical_accuracy: 0.6923\n",
            "Epoch 39/70\n",
            "667/667 [==============================] - 184s 276ms/step - loss: 0.3022 - categorical_accuracy: 0.8928 - val_loss: 0.8851 - val_categorical_accuracy: 0.6864\n",
            "Epoch 40/70\n",
            "667/667 [==============================] - 186s 279ms/step - loss: 0.2956 - categorical_accuracy: 0.8905 - val_loss: 0.3788 - val_categorical_accuracy: 0.8403\n",
            "Epoch 41/70\n",
            "667/667 [==============================] - 182s 274ms/step - loss: 0.2960 - categorical_accuracy: 0.8958 - val_loss: 1.1011 - val_categorical_accuracy: 0.6154\n",
            "Epoch 42/70\n",
            "667/667 [==============================] - 188s 282ms/step - loss: 0.2887 - categorical_accuracy: 0.8943 - val_loss: 0.8780 - val_categorical_accuracy: 0.6656\n",
            "Epoch 43/70\n",
            "667/667 [==============================] - 189s 284ms/step - loss: 0.2877 - categorical_accuracy: 0.8970 - val_loss: 0.3001 - val_categorical_accuracy: 0.8894\n",
            "Epoch 44/70\n",
            "667/667 [==============================] - 188s 282ms/step - loss: 0.2869 - categorical_accuracy: 0.8966 - val_loss: 0.3423 - val_categorical_accuracy: 0.8632\n",
            "Epoch 45/70\n",
            "667/667 [==============================] - 190s 285ms/step - loss: 0.2803 - categorical_accuracy: 0.8996 - val_loss: 0.3890 - val_categorical_accuracy: 0.8654\n",
            "Epoch 46/70\n",
            "667/667 [==============================] - 188s 282ms/step - loss: 0.2856 - categorical_accuracy: 0.8987 - val_loss: 0.5166 - val_categorical_accuracy: 0.7671\n",
            "Epoch 47/70\n",
            "667/667 [==============================] - 185s 277ms/step - loss: 0.2834 - categorical_accuracy: 0.8967 - val_loss: 1.2310 - val_categorical_accuracy: 0.6448\n",
            "Epoch 48/70\n",
            "667/667 [==============================] - 184s 276ms/step - loss: 0.2845 - categorical_accuracy: 0.8969 - val_loss: 1.5986 - val_categorical_accuracy: 0.6357\n",
            "Epoch 49/70\n",
            "667/667 [==============================] - 185s 277ms/step - loss: 0.2693 - categorical_accuracy: 0.9028 - val_loss: 1.7793 - val_categorical_accuracy: 0.5422\n",
            "Epoch 50/70\n",
            "667/667 [==============================] - 191s 287ms/step - loss: 0.2731 - categorical_accuracy: 0.9026 - val_loss: 2.0112 - val_categorical_accuracy: 0.5491\n",
            "Epoch 51/70\n",
            "667/667 [==============================] - 193s 290ms/step - loss: 0.2720 - categorical_accuracy: 0.9017 - val_loss: 1.9120 - val_categorical_accuracy: 0.6036\n",
            "Epoch 52/70\n",
            "667/667 [==============================] - 197s 296ms/step - loss: 0.2701 - categorical_accuracy: 0.9045 - val_loss: 1.4155 - val_categorical_accuracy: 0.5833\n",
            "Epoch 53/70\n",
            "667/667 [==============================] - 195s 293ms/step - loss: 0.2682 - categorical_accuracy: 0.9055 - val_loss: 0.8942 - val_categorical_accuracy: 0.6870\n",
            "Epoch 54/70\n",
            "667/667 [==============================] - 196s 293ms/step - loss: 0.2688 - categorical_accuracy: 0.9030 - val_loss: 1.3148 - val_categorical_accuracy: 0.6149\n",
            "Epoch 55/70\n",
            "667/667 [==============================] - 194s 291ms/step - loss: 0.2674 - categorical_accuracy: 0.9031 - val_loss: 0.2907 - val_categorical_accuracy: 0.8985\n",
            "Epoch 56/70\n",
            "667/667 [==============================] - 194s 291ms/step - loss: 0.2591 - categorical_accuracy: 0.9085 - val_loss: 1.7086 - val_categorical_accuracy: 0.6149\n",
            "Epoch 57/70\n",
            "667/667 [==============================] - 190s 286ms/step - loss: 0.2669 - categorical_accuracy: 0.9058 - val_loss: 1.1280 - val_categorical_accuracy: 0.6213\n",
            "Epoch 58/70\n",
            "667/667 [==============================] - 190s 284ms/step - loss: 0.2597 - categorical_accuracy: 0.9086 - val_loss: 0.5535 - val_categorical_accuracy: 0.7986\n",
            "Epoch 59/70\n",
            "667/667 [==============================] - 193s 289ms/step - loss: 0.2608 - categorical_accuracy: 0.9081 - val_loss: 2.6629 - val_categorical_accuracy: 0.4845\n",
            "Epoch 60/70\n",
            "667/667 [==============================] - 198s 296ms/step - loss: 0.2538 - categorical_accuracy: 0.9115 - val_loss: 1.9000 - val_categorical_accuracy: 0.6325\n",
            "Epoch 61/70\n",
            "667/667 [==============================] - 193s 289ms/step - loss: 0.2509 - categorical_accuracy: 0.9135 - val_loss: 1.3543 - val_categorical_accuracy: 0.5689\n",
            "Epoch 62/70\n",
            "667/667 [==============================] - 201s 301ms/step - loss: 0.2563 - categorical_accuracy: 0.9099 - val_loss: 0.2818 - val_categorical_accuracy: 0.8905\n",
            "Epoch 63/70\n",
            "667/667 [==============================] - 199s 299ms/step - loss: 0.2531 - categorical_accuracy: 0.9120 - val_loss: 0.2754 - val_categorical_accuracy: 0.9001\n",
            "Epoch 64/70\n",
            "667/667 [==============================] - 198s 296ms/step - loss: 0.2547 - categorical_accuracy: 0.9140 - val_loss: 0.8819 - val_categorical_accuracy: 0.6720\n",
            "Epoch 65/70\n",
            "667/667 [==============================] - 199s 299ms/step - loss: 0.2468 - categorical_accuracy: 0.9146 - val_loss: 0.5478 - val_categorical_accuracy: 0.7911\n",
            "Epoch 66/70\n",
            "667/667 [==============================] - 201s 301ms/step - loss: 0.2598 - categorical_accuracy: 0.9117 - val_loss: 1.1129 - val_categorical_accuracy: 0.6293\n",
            "Epoch 67/70\n",
            "667/667 [==============================] - 200s 300ms/step - loss: 0.2448 - categorical_accuracy: 0.9159 - val_loss: 0.4757 - val_categorical_accuracy: 0.8082\n",
            "Epoch 68/70\n",
            "667/667 [==============================] - 198s 297ms/step - loss: 0.2511 - categorical_accuracy: 0.9137 - val_loss: 0.3195 - val_categorical_accuracy: 0.8798\n",
            "Epoch 69/70\n",
            "667/667 [==============================] - 193s 290ms/step - loss: 0.2400 - categorical_accuracy: 0.9189 - val_loss: 0.4668 - val_categorical_accuracy: 0.8157\n",
            "Epoch 70/70\n",
            "667/667 [==============================] - 196s 294ms/step - loss: 0.2480 - categorical_accuracy: 0.9149 - val_loss: 0.8770 - val_categorical_accuracy: 0.7046\n"
          ],
          "name": "stdout"
        }
      ]
    },
    {
      "cell_type": "code",
      "metadata": {
        "id": "FD_BJJWaIg2V",
        "colab_type": "code",
        "outputId": "fdd192dd-68ce-4cde-db08-a3a7989f8486",
        "colab": {
          "base_uri": "https://localhost:8080/",
          "height": 530
        }
      },
      "source": [
        "import json\n",
        "with open('/content/history.json', 'w') as f:\n",
        "    json.dump(history.history, f)\n",
        "\n",
        "history_df = pd.DataFrame(history.history)\n",
        "history_df[['loss', 'val_loss']].plot()\n",
        "history_df[['categorical_accuracy', 'val_categorical_accuracy']].plot()"
      ],
      "execution_count": 0,
      "outputs": [
        {
          "output_type": "execute_result",
          "data": {
            "text/plain": [
              "<matplotlib.axes._subplots.AxesSubplot at 0x7f3df7162710>"
            ]
          },
          "metadata": {
            "tags": []
          },
          "execution_count": 75
        },
        {
          "output_type": "display_data",
          "data": {
            "image/png": "[encoded data removed]",
            "text/plain": [
              "<Figure size 432x288 with 1 Axes>"
            ]
          },
          "metadata": {
            "tags": []
          }
        },
        {
          "output_type": "display_data",
          "data": {
            "image/png": "[encoded data removed]",
            "text/plain": [
              "<Figure size 432x288 with 1 Axes>"
            ]
          },
          "metadata": {
            "tags": []
          }
        }
      ]
    },
    {
      "cell_type": "code",
      "metadata": {
        "id": "YP2YJN65rpdM",
        "colab_type": "code",
        "colab": {}
      },
      "source": [
        "model.save('/content/simple_cnn_reg_drp_model.h5')"
      ],
      "execution_count": 0,
      "outputs": []
    }
  ]
}