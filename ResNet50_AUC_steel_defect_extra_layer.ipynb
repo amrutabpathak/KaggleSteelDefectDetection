{
  "nbformat": 4,
  "nbformat_minor": 0,
  "metadata": {
    "kernelspec": {
      "name": "python3",
      "display_name": "Python 3"
    },
    "language_info": {
      "codemirror_mode": {
        "name": "ipython",
        "version": 3
      },
      "file_extension": ".py",
      "mimetype": "text/x-python",
      "name": "python",
      "nbconvert_exporter": "python",
      "pygments_lexer": "ipython3",
      "version": "3.7.4"
    },
    "colab": {
      "name": "ResNet50_AUC_steel_defect_extra_layer.ipynb",
      "provenance": [],
      "collapsed_sections": [],
      "toc_visible": true,
      "machine_shape": "hm"
    },
    "accelerator": "GPU"
  },
  "cells": [
    {
      "cell_type": "code",
      "metadata": {
        "id": "F6d9aH3sIi8r",
        "colab_type": "code",
        "outputId": "efbd11a0-298b-4c3d-f833-0fcf98fede21",
        "colab": {
          "base_uri": "https://localhost:8080/",
          "height": 1000
        }
      },
      "source": [
        "!pip install keras\n",
        "!pip install opencv-python\n",
        "!pip install tensorflow-addons"
      ],
      "execution_count": 1,
      "outputs": [
        {
          "output_type": "stream",
          "text": [
            "Requirement already satisfied: keras in /usr/local/lib/python3.6/dist-packages (2.2.5)\n",
            "Requirement already satisfied: keras-applications>=1.0.8 in /usr/local/lib/python3.6/dist-packages (from keras) (1.0.8)\n",
            "Requirement already satisfied: six>=1.9.0 in /usr/local/lib/python3.6/dist-packages (from keras) (1.12.0)\n",
            "Requirement already satisfied: h5py in /usr/local/lib/python3.6/dist-packages (from keras) (2.8.0)\n",
            "Requirement already satisfied: numpy>=1.9.1 in /usr/local/lib/python3.6/dist-packages (from keras) (1.17.4)\n",
            "Requirement already satisfied: keras-preprocessing>=1.1.0 in /usr/local/lib/python3.6/dist-packages (from keras) (1.1.0)\n",
            "Requirement already satisfied: pyyaml in /usr/local/lib/python3.6/dist-packages (from keras) (3.13)\n",
            "Requirement already satisfied: scipy>=0.14 in /usr/local/lib/python3.6/dist-packages (from keras) (1.3.3)\n",
            "Requirement already satisfied: opencv-python in /usr/local/lib/python3.6/dist-packages (4.1.2.30)\n",
            "Requirement already satisfied: numpy>=1.11.3 in /usr/local/lib/python3.6/dist-packages (from opencv-python) (1.17.4)\n",
            "Collecting tensorflow-addons\n",
            "\u001b[?25l  Downloading https://files.pythonhosted.org/packages/43/b0/6a1dacc2f4fab422926bfcbab6fa8f08f2a0309d872f3b059340a409b194/tensorflow_addons-0.6.0-cp36-cp36m-manylinux2010_x86_64.whl (1.8MB)\n",
            "\u001b[K     |████████████████████████████████| 1.8MB 4.9MB/s \n",
            "\u001b[?25hCollecting tensorflow-gpu==2.0.0\n",
            "\u001b[?25l  Downloading https://files.pythonhosted.org/packages/25/44/47f0722aea081697143fbcf5d2aa60d1aee4aaacb5869aee2b568974777b/tensorflow_gpu-2.0.0-cp36-cp36m-manylinux2010_x86_64.whl (380.8MB)\n",
            "\u001b[K     |████████████████████████████████| 380.8MB 38kB/s \n",
            "\u001b[?25hRequirement already satisfied: six>=1.10.0 in /usr/local/lib/python3.6/dist-packages (from tensorflow-addons) (1.12.0)\n",
            "Requirement already satisfied: wrapt>=1.11.1 in /usr/local/lib/python3.6/dist-packages (from tensorflow-gpu==2.0.0->tensorflow-addons) (1.11.2)\n",
            "Collecting tensorboard<2.1.0,>=2.0.0\n",
            "\u001b[?25l  Downloading https://files.pythonhosted.org/packages/76/54/99b9d5d52d5cb732f099baaaf7740403e83fe6b0cedde940fabd2b13d75a/tensorboard-2.0.2-py3-none-any.whl (3.8MB)\n",
            "\u001b[K     |████████████████████████████████| 3.8MB 36.7MB/s \n",
            "\u001b[?25hRequirement already satisfied: absl-py>=0.7.0 in /usr/local/lib/python3.6/dist-packages (from tensorflow-gpu==2.0.0->tensorflow-addons) (0.8.1)\n",
            "Collecting tensorflow-estimator<2.1.0,>=2.0.0\n",
            "\u001b[?25l  Downloading https://files.pythonhosted.org/packages/fc/08/8b927337b7019c374719145d1dceba21a8bb909b93b1ad6f8fb7d22c1ca1/tensorflow_estimator-2.0.1-py2.py3-none-any.whl (449kB)\n",
            "\u001b[K     |████████████████████████████████| 450kB 58.1MB/s \n",
            "\u001b[?25hRequirement already satisfied: termcolor>=1.1.0 in /usr/local/lib/python3.6/dist-packages (from tensorflow-gpu==2.0.0->tensorflow-addons) (1.1.0)\n",
            "Requirement already satisfied: gast==0.2.2 in /usr/local/lib/python3.6/dist-packages (from tensorflow-gpu==2.0.0->tensorflow-addons) (0.2.2)\n",
            "Requirement already satisfied: astor>=0.6.0 in /usr/local/lib/python3.6/dist-packages (from tensorflow-gpu==2.0.0->tensorflow-addons) (0.8.0)\n",
            "Requirement already satisfied: grpcio>=1.8.6 in /usr/local/lib/python3.6/dist-packages (from tensorflow-gpu==2.0.0->tensorflow-addons) (1.15.0)\n",
            "Requirement already satisfied: protobuf>=3.6.1 in /usr/local/lib/python3.6/dist-packages (from tensorflow-gpu==2.0.0->tensorflow-addons) (3.10.0)\n",
            "Requirement already satisfied: opt-einsum>=2.3.2 in /usr/local/lib/python3.6/dist-packages (from tensorflow-gpu==2.0.0->tensorflow-addons) (3.1.0)\n",
            "Requirement already satisfied: wheel>=0.26 in /usr/local/lib/python3.6/dist-packages (from tensorflow-gpu==2.0.0->tensorflow-addons) (0.33.6)\n",
            "Requirement already satisfied: keras-preprocessing>=1.0.5 in /usr/local/lib/python3.6/dist-packages (from tensorflow-gpu==2.0.0->tensorflow-addons) (1.1.0)\n",
            "Requirement already satisfied: google-pasta>=0.1.6 in /usr/local/lib/python3.6/dist-packages (from tensorflow-gpu==2.0.0->tensorflow-addons) (0.1.8)\n",
            "Requirement already satisfied: keras-applications>=1.0.8 in /usr/local/lib/python3.6/dist-packages (from tensorflow-gpu==2.0.0->tensorflow-addons) (1.0.8)\n",
            "Requirement already satisfied: numpy<2.0,>=1.16.0 in /usr/local/lib/python3.6/dist-packages (from tensorflow-gpu==2.0.0->tensorflow-addons) (1.17.4)\n",
            "Requirement already satisfied: requests<3,>=2.21.0 in /usr/local/lib/python3.6/dist-packages (from tensorboard<2.1.0,>=2.0.0->tensorflow-gpu==2.0.0->tensorflow-addons) (2.21.0)\n",
            "Requirement already satisfied: werkzeug>=0.11.15 in /usr/local/lib/python3.6/dist-packages (from tensorboard<2.1.0,>=2.0.0->tensorflow-gpu==2.0.0->tensorflow-addons) (0.16.0)\n",
            "Requirement already satisfied: google-auth-oauthlib<0.5,>=0.4.1 in /usr/local/lib/python3.6/dist-packages (from tensorboard<2.1.0,>=2.0.0->tensorflow-gpu==2.0.0->tensorflow-addons) (0.4.1)\n",
            "Collecting google-auth<2,>=1.6.3\n",
            "\u001b[?25l  Downloading https://files.pythonhosted.org/packages/54/31/f944cbd5bdbcc90d5b36f0615036308c8ec1e41b4788da5b55d4900f6803/google_auth-1.8.2-py2.py3-none-any.whl (75kB)\n",
            "\u001b[K     |████████████████████████████████| 81kB 12.4MB/s \n",
            "\u001b[?25hRequirement already satisfied: setuptools>=41.0.0 in /usr/local/lib/python3.6/dist-packages (from tensorboard<2.1.0,>=2.0.0->tensorflow-gpu==2.0.0->tensorflow-addons) (42.0.2)\n",
            "Requirement already satisfied: markdown>=2.6.8 in /usr/local/lib/python3.6/dist-packages (from tensorboard<2.1.0,>=2.0.0->tensorflow-gpu==2.0.0->tensorflow-addons) (3.1.1)\n",
            "Requirement already satisfied: h5py in /usr/local/lib/python3.6/dist-packages (from keras-applications>=1.0.8->tensorflow-gpu==2.0.0->tensorflow-addons) (2.8.0)\n",
            "Requirement already satisfied: chardet<3.1.0,>=3.0.2 in /usr/local/lib/python3.6/dist-packages (from requests<3,>=2.21.0->tensorboard<2.1.0,>=2.0.0->tensorflow-gpu==2.0.0->tensorflow-addons) (3.0.4)\n",
            "Requirement already satisfied: urllib3<1.25,>=1.21.1 in /usr/local/lib/python3.6/dist-packages (from requests<3,>=2.21.0->tensorboard<2.1.0,>=2.0.0->tensorflow-gpu==2.0.0->tensorflow-addons) (1.24.3)\n",
            "Requirement already satisfied: certifi>=2017.4.17 in /usr/local/lib/python3.6/dist-packages (from requests<3,>=2.21.0->tensorboard<2.1.0,>=2.0.0->tensorflow-gpu==2.0.0->tensorflow-addons) (2019.11.28)\n",
            "Requirement already satisfied: idna<2.9,>=2.5 in /usr/local/lib/python3.6/dist-packages (from requests<3,>=2.21.0->tensorboard<2.1.0,>=2.0.0->tensorflow-gpu==2.0.0->tensorflow-addons) (2.8)\n",
            "Requirement already satisfied: requests-oauthlib>=0.7.0 in /usr/local/lib/python3.6/dist-packages (from google-auth-oauthlib<0.5,>=0.4.1->tensorboard<2.1.0,>=2.0.0->tensorflow-gpu==2.0.0->tensorflow-addons) (1.3.0)\n",
            "Requirement already satisfied: rsa<4.1,>=3.1.4 in /usr/local/lib/python3.6/dist-packages (from google-auth<2,>=1.6.3->tensorboard<2.1.0,>=2.0.0->tensorflow-gpu==2.0.0->tensorflow-addons) (4.0)\n",
            "Requirement already satisfied: pyasn1-modules>=0.2.1 in /usr/local/lib/python3.6/dist-packages (from google-auth<2,>=1.6.3->tensorboard<2.1.0,>=2.0.0->tensorflow-gpu==2.0.0->tensorflow-addons) (0.2.7)\n",
            "Requirement already satisfied: cachetools<3.2,>=2.0.0 in /usr/local/lib/python3.6/dist-packages (from google-auth<2,>=1.6.3->tensorboard<2.1.0,>=2.0.0->tensorflow-gpu==2.0.0->tensorflow-addons) (3.1.1)\n",
            "Requirement already satisfied: oauthlib>=3.0.0 in /usr/local/lib/python3.6/dist-packages (from requests-oauthlib>=0.7.0->google-auth-oauthlib<0.5,>=0.4.1->tensorboard<2.1.0,>=2.0.0->tensorflow-gpu==2.0.0->tensorflow-addons) (3.1.0)\n",
            "Requirement already satisfied: pyasn1>=0.1.3 in /usr/local/lib/python3.6/dist-packages (from rsa<4.1,>=3.1.4->google-auth<2,>=1.6.3->tensorboard<2.1.0,>=2.0.0->tensorflow-gpu==2.0.0->tensorflow-addons) (0.4.8)\n",
            "\u001b[31mERROR: tensorflow 1.15.0 has requirement tensorboard<1.16.0,>=1.15.0, but you'll have tensorboard 2.0.2 which is incompatible.\u001b[0m\n",
            "\u001b[31mERROR: tensorflow 1.15.0 has requirement tensorflow-estimator==1.15.1, but you'll have tensorflow-estimator 2.0.1 which is incompatible.\u001b[0m\n",
            "\u001b[31mERROR: tensorboard 2.0.2 has requirement grpcio>=1.24.3, but you'll have grpcio 1.15.0 which is incompatible.\u001b[0m\n",
            "\u001b[31mERROR: google-colab 1.0.0 has requirement google-auth~=1.4.0, but you'll have google-auth 1.8.2 which is incompatible.\u001b[0m\n",
            "Installing collected packages: google-auth, tensorboard, tensorflow-estimator, tensorflow-gpu, tensorflow-addons\n",
            "  Found existing installation: google-auth 1.4.2\n",
            "    Uninstalling google-auth-1.4.2:\n",
            "      Successfully uninstalled google-auth-1.4.2\n",
            "  Found existing installation: tensorboard 1.15.0\n",
            "    Uninstalling tensorboard-1.15.0:\n",
            "      Successfully uninstalled tensorboard-1.15.0\n",
            "  Found existing installation: tensorflow-estimator 1.15.1\n",
            "    Uninstalling tensorflow-estimator-1.15.1:\n",
            "      Successfully uninstalled tensorflow-estimator-1.15.1\n",
            "Successfully installed google-auth-1.8.2 tensorboard-2.0.2 tensorflow-addons-0.6.0 tensorflow-estimator-2.0.1 tensorflow-gpu-2.0.0\n"
          ],
          "name": "stdout"
        },
        {
          "output_type": "display_data",
          "data": {
            "application/vnd.colab-display-data+json": {
              "pip_warning": {
                "packages": [
                  "google"
                ]
              }
            }
          },
          "metadata": {
            "tags": []
          }
        }
      ]
    },
    {
      "cell_type": "code",
      "metadata": {
        "id": "TOJlh4v2I_AV",
        "colab_type": "code",
        "colab": {}
      },
      "source": [
        "import os\n",
        "from google.colab import auth\n",
        "auth.authenticate_user()"
      ],
      "execution_count": 0,
      "outputs": []
    },
    {
      "cell_type": "code",
      "metadata": {
        "id": "k1aZdh9a6VZC",
        "colab_type": "code",
        "colab": {}
      },
      "source": [
        "%%capture\n",
        "!gsutil cp -r gs://steel-data/data/train.zip /content\n",
        "!unzip /content/train.zip\n",
        "!gsutil cp -r gs://steel-data/data/train.csv /content\n",
        "!gsutil cp -r gs://steel-data/data/sample_submission.csv /content\n",
        "os.chdir('/content/')"
      ],
      "execution_count": 0,
      "outputs": []
    },
    {
      "cell_type": "code",
      "metadata": {
        "id": "OUL-lmfGYkSV",
        "colab_type": "code",
        "outputId": "c8da7fa6-2251-4c8a-cc39-7ac90b7ec38e",
        "colab": {
          "base_uri": "https://localhost:8080/",
          "height": 35
        }
      },
      "source": [
        "for file in os.listdir():\n",
        "  if file == \"sample_submission.csv\":\n",
        "    print(file)\n"
      ],
      "execution_count": 3,
      "outputs": [
        {
          "output_type": "stream",
          "text": [
            "sample_submission.csv\n"
          ],
          "name": "stdout"
        }
      ]
    },
    {
      "cell_type": "code",
      "metadata": {
        "id": "OmeLZyD8Ig11",
        "colab_type": "code",
        "colab": {}
      },
      "source": [
        "\n",
        "import os\n",
        "import json\n",
        "import random\n",
        "\n",
        "import cv2\n",
        "import tensorflow as tf\n",
        "import tensorflow.keras as keras\n",
        "from tensorflow.keras import backend as K\n",
        "from tensorflow.keras.models import Model\n",
        "from tensorflow.keras.layers import Input\n",
        "from tensorflow.keras.layers import Conv2D, Conv2DTranspose, MaxPooling2D, concatenate \n",
        "from tensorflow.keras.losses import binary_crossentropy\n",
        "from tensorflow.keras.callbacks import Callback, ModelCheckpoint\n",
        "from tensorflow.keras.preprocessing.image import ImageDataGenerator\n",
        "import matplotlib.pyplot as plt\n",
        "import numpy as np\n",
        "import pandas as pd\n",
        "from tqdm import tqdm\n",
        "from sklearn.model_selection import train_test_split\n",
        "import tensorflow_addons as tfa"
      ],
      "execution_count": 0,
      "outputs": []
    },
    {
      "cell_type": "code",
      "metadata": {
        "id": "3Tmg3aYS47D4",
        "colab_type": "code",
        "colab": {}
      },
      "source": [
        "ONLY_CLASSIFY = True\n",
        "IMAGE_CHANNELS = 3"
      ],
      "execution_count": 0,
      "outputs": []
    },
    {
      "cell_type": "markdown",
      "metadata": {
        "id": "xkWcb5l7Ig15",
        "colab_type": "text"
      },
      "source": [
        "## PREPROCESSING"
      ]
    },
    {
      "cell_type": "code",
      "metadata": {
        "_cell_guid": "79c7e3d0-c299-4dcb-8224-4455121ee9b0",
        "_uuid": "d629ff2d2480ee46fbb7e2d37f6b5fab8052498a",
        "id": "Wl0Y0oqrIg16",
        "colab_type": "code",
        "outputId": "54348df8-a934-495c-c0d7-bbd90477cc74",
        "colab": {
          "base_uri": "https://localhost:8080/",
          "height": 215
        }
      },
      "source": [
        "traindf=pd.read_csv('train.csv')\n",
        "traindf['ImageId'] = traindf['ImageId_ClassId'].apply(lambda x: x.split('_')[0])\n",
        "traindf['ClassId'] = traindf['ImageId_ClassId'].apply(lambda x: x.split('_')[1])\n",
        "traindf['hasMask'] = ~ traindf['EncodedPixels'].isna()\n",
        "traindf.head()"
      ],
      "execution_count": 88,
      "outputs": [
        {
          "output_type": "execute_result",
          "data": {
            "text/html": [
              "<div>\n",
              "<style scoped>\n",
              "    .dataframe tbody tr th:only-of-type {\n",
              "        vertical-align: middle;\n",
              "    }\n",
              "\n",
              "    .dataframe tbody tr th {\n",
              "        vertical-align: top;\n",
              "    }\n",
              "\n",
              "    .dataframe thead th {\n",
              "        text-align: right;\n",
              "    }\n",
              "</style>\n",
              "<table border=\"1\" class=\"dataframe\">\n",
              "  <thead>\n",
              "    <tr style=\"text-align: right;\">\n",
              "      <th></th>\n",
              "      <th>ImageId_ClassId</th>\n",
              "      <th>EncodedPixels</th>\n",
              "      <th>ImageId</th>\n",
              "      <th>ClassId</th>\n",
              "      <th>hasMask</th>\n",
              "    </tr>\n",
              "  </thead>\n",
              "  <tbody>\n",
              "    <tr>\n",
              "      <th>0</th>\n",
              "      <td>0002cc93b.jpg_1</td>\n",
              "      <td>29102 12 29346 24 29602 24 29858 24 30114 24 3...</td>\n",
              "      <td>0002cc93b.jpg</td>\n",
              "      <td>1</td>\n",
              "      <td>True</td>\n",
              "    </tr>\n",
              "    <tr>\n",
              "      <th>1</th>\n",
              "      <td>0002cc93b.jpg_2</td>\n",
              "      <td>NaN</td>\n",
              "      <td>0002cc93b.jpg</td>\n",
              "      <td>2</td>\n",
              "      <td>False</td>\n",
              "    </tr>\n",
              "    <tr>\n",
              "      <th>2</th>\n",
              "      <td>0002cc93b.jpg_3</td>\n",
              "      <td>NaN</td>\n",
              "      <td>0002cc93b.jpg</td>\n",
              "      <td>3</td>\n",
              "      <td>False</td>\n",
              "    </tr>\n",
              "    <tr>\n",
              "      <th>3</th>\n",
              "      <td>0002cc93b.jpg_4</td>\n",
              "      <td>NaN</td>\n",
              "      <td>0002cc93b.jpg</td>\n",
              "      <td>4</td>\n",
              "      <td>False</td>\n",
              "    </tr>\n",
              "    <tr>\n",
              "      <th>4</th>\n",
              "      <td>00031f466.jpg_1</td>\n",
              "      <td>NaN</td>\n",
              "      <td>00031f466.jpg</td>\n",
              "      <td>1</td>\n",
              "      <td>False</td>\n",
              "    </tr>\n",
              "  </tbody>\n",
              "</table>\n",
              "</div>"
            ],
            "text/plain": [
              "   ImageId_ClassId  ... hasMask\n",
              "0  0002cc93b.jpg_1  ...    True\n",
              "1  0002cc93b.jpg_2  ...   False\n",
              "2  0002cc93b.jpg_3  ...   False\n",
              "3  0002cc93b.jpg_4  ...   False\n",
              "4  00031f466.jpg_1  ...   False\n",
              "\n",
              "[5 rows x 5 columns]"
            ]
          },
          "metadata": {
            "tags": []
          },
          "execution_count": 88
        }
      ]
    },
    {
      "cell_type": "code",
      "metadata": {
        "id": "Q7MWi9zsIg19",
        "colab_type": "code",
        "outputId": "751802a3-f61d-4f59-ace1-d102766db78e",
        "colab": {
          "base_uri": "https://localhost:8080/",
          "height": 215
        }
      },
      "source": [
        "maskcountdf = traindf.groupby('ImageId').agg(np.sum).reset_index()\n",
        "maskcountdf.sort_values('hasMask', ascending=True, inplace=True)\n",
        "print(maskcountdf.shape)\n",
        "maskcountdf.head()"
      ],
      "execution_count": 89,
      "outputs": [
        {
          "output_type": "stream",
          "text": [
            "(12568, 2)\n"
          ],
          "name": "stdout"
        },
        {
          "output_type": "execute_result",
          "data": {
            "text/html": [
              "<div>\n",
              "<style scoped>\n",
              "    .dataframe tbody tr th:only-of-type {\n",
              "        vertical-align: middle;\n",
              "    }\n",
              "\n",
              "    .dataframe tbody tr th {\n",
              "        vertical-align: top;\n",
              "    }\n",
              "\n",
              "    .dataframe thead th {\n",
              "        text-align: right;\n",
              "    }\n",
              "</style>\n",
              "<table border=\"1\" class=\"dataframe\">\n",
              "  <thead>\n",
              "    <tr style=\"text-align: right;\">\n",
              "      <th></th>\n",
              "      <th>ImageId</th>\n",
              "      <th>hasMask</th>\n",
              "    </tr>\n",
              "  </thead>\n",
              "  <tbody>\n",
              "    <tr>\n",
              "      <th>4060</th>\n",
              "      <td>5267fdd89.jpg</td>\n",
              "      <td>0.0</td>\n",
              "    </tr>\n",
              "    <tr>\n",
              "      <th>4958</th>\n",
              "      <td>64a9ec83c.jpg</td>\n",
              "      <td>0.0</td>\n",
              "    </tr>\n",
              "    <tr>\n",
              "      <th>9888</th>\n",
              "      <td>c8b9b27b9.jpg</td>\n",
              "      <td>0.0</td>\n",
              "    </tr>\n",
              "    <tr>\n",
              "      <th>4954</th>\n",
              "      <td>64945c8c0.jpg</td>\n",
              "      <td>0.0</td>\n",
              "    </tr>\n",
              "    <tr>\n",
              "      <th>9889</th>\n",
              "      <td>c8bb69681.jpg</td>\n",
              "      <td>0.0</td>\n",
              "    </tr>\n",
              "  </tbody>\n",
              "</table>\n",
              "</div>"
            ],
            "text/plain": [
              "            ImageId  hasMask\n",
              "4060  5267fdd89.jpg      0.0\n",
              "4958  64a9ec83c.jpg      0.0\n",
              "9888  c8b9b27b9.jpg      0.0\n",
              "4954  64945c8c0.jpg      0.0\n",
              "9889  c8bb69681.jpg      0.0"
            ]
          },
          "metadata": {
            "tags": []
          },
          "execution_count": 89
        }
      ]
    },
    {
      "cell_type": "code",
      "metadata": {
        "id": "vR_nhzWNIg1_",
        "colab_type": "code",
        "colab": {}
      },
      "source": [
        "sub_df = pd.read_csv('sample_submission.csv')\n",
        "sub_df['ImageId'] = sub_df['ImageId_ClassId'].apply(lambda x: x.split('_')[0])\n",
        "test_imgs = pd.DataFrame(sub_df['ImageId'].unique(), columns=['ImageId'])"
      ],
      "execution_count": 0,
      "outputs": []
    },
    {
      "cell_type": "markdown",
      "metadata": {
        "id": "r6AK65QGIg2C",
        "colab_type": "text"
      },
      "source": [
        "## UTILITY"
      ]
    },
    {
      "cell_type": "code",
      "metadata": {
        "id": "3BsboxNrIg2D",
        "colab_type": "code",
        "colab": {}
      },
      "source": [
        "def mask2rle(img):\n",
        "    '''\n",
        "    img: numpy array, 1 - mask, 0 - background\n",
        "    Returns run length as string formated\n",
        "    '''\n",
        "    pixels= img.T.flatten()\n",
        "    pixels = np.concatenate([[0], pixels, [0]])\n",
        "    runs = np.where(pixels[1:] != pixels[:-1])[0] + 1\n",
        "    runs[1::2] -= runs[::2]\n",
        "    return ' '.join(str(x) for x in runs)\n",
        "\n",
        "def rle2mask(mask_rle, shape=(256,1600)):\n",
        "    '''\n",
        "    mask_rle: run-length as string formated (start length)\n",
        "    shape: (width,height) of array to return \n",
        "    Returns numpy array, 1 - mask, 0 - background\n",
        "\n",
        "    '''\n",
        "    s = mask_rle.split()\n",
        "    starts, lengths = [np.asarray(x, dtype=int) for x in (s[0:][::2], s[1:][::2])]\n",
        "    starts -= 1\n",
        "    ends = starts + lengths\n",
        "    img = np.zeros(shape[0]*shape[1], dtype=np.uint8)\n",
        "    for lo, hi in zip(starts, ends):\n",
        "        img[lo:hi] = 1\n",
        "    return img.reshape(shape).T"
      ],
      "execution_count": 0,
      "outputs": []
    },
    {
      "cell_type": "code",
      "metadata": {
        "id": "9toxiVQJIg2F",
        "colab_type": "code",
        "colab": {}
      },
      "source": [
        "def build_masks(rles, input_shape):\n",
        "    depth = len(rles)\n",
        "    height, width = input_shape\n",
        "    masks = np.zeros((height, width, depth))\n",
        "    \n",
        "    for i, rle in enumerate(rles):\n",
        "        if type(rle) is str:\n",
        "            masks[:, :, i] = rle2mask(rle, (width, height))\n",
        "    \n",
        "    return masks\n",
        "\n",
        "def build_rles(masks):\n",
        "    width, height, depth = masks.shape\n",
        "    \n",
        "    rles = [mask2rle(masks[:, :, i])\n",
        "            for i in range(depth)]\n",
        "    \n",
        "    return rles\n",
        "\n",
        "def rles_classvect(rles):\n",
        "    depth = len(rles)\n",
        "    masks = np.zeros((depth))\n",
        "\n",
        "    for i, rle in enumerate(rles):\n",
        "      if type(rle) is str:\n",
        "          masks[i] = 1\n",
        " \n",
        "    return masks\n",
        "\n",
        "def random_flip(img):\n",
        "    seed = random.randint(1,5)\n",
        "    if seed % 3 == 0:\n",
        "      img = np.flip(img, 0)\n",
        "    if seed % 4 == 0:\n",
        "      img = np.flip(img, 1)\n",
        "    return img"
      ],
      "execution_count": 0,
      "outputs": []
    },
    {
      "cell_type": "code",
      "metadata": {
        "colab_type": "code",
        "id": "Uk-kybs9RYf1",
        "colab": {}
      },
      "source": [
        "def dice_coef(y_true, y_pred, smooth=1):\n",
        "    y_true_f = K.flatten(y_true)\n",
        "    y_pred_f = K.flatten(y_pred)\n",
        "    intersection = K.sum(y_true_f * y_pred_f)\n",
        "    return (2. * intersection + smooth) / (K.sum(y_true_f) + K.sum(y_pred_f) + smooth)\n",
        "\n",
        "def dice_loss(y_true, y_pred):\n",
        "    smooth = 1.\n",
        "    y_true_f = K.flatten(y_true)\n",
        "    y_pred_f = K.flatten(y_pred)\n",
        "    intersection = y_true_f * y_pred_f\n",
        "    score = (2. * K.sum(intersection) + smooth) / (K.sum(y_true_f) + K.sum(y_pred_f) + smooth)\n",
        "    return 1. - score\n",
        "\n",
        "def bce_dice_loss(y_true, y_pred):\n",
        "    return binary_crossentropy(y_true, y_pred) + dice_loss(y_true, y_pred)"
      ],
      "execution_count": 0,
      "outputs": []
    },
    {
      "cell_type": "markdown",
      "metadata": {
        "id": "9lZ27V6IIg2J",
        "colab_type": "text"
      },
      "source": [
        "## Sample"
      ]
    },
    {
      "cell_type": "code",
      "metadata": {
        "id": "LkbZDwtwIg2J",
        "colab_type": "code",
        "outputId": "e9b0b135-f5b2-456b-c95b-010f3960cf4f",
        "colab": {
          "base_uri": "https://localhost:8080/",
          "height": 678
        }
      },
      "source": [
        "#/kaggle/input/severstal-steel-defect-detection/train_images/910540b7d.jpg\n",
        "sample_filename = '910540b7d.jpg'\n",
        "sample_image_df = traindf[traindf['ImageId'] == sample_filename]\n",
        "sample_path = f\"{sample_image_df['ImageId'].iloc[0]}\"\n",
        "sample_img = cv2.imread(sample_path)\n",
        "sample_rles = sample_image_df['EncodedPixels'].values\n",
        "sample_masks = build_masks(sample_rles, input_shape=(256, 1600))\n",
        "\n",
        "fig, axs = plt.subplots(5, figsize=(12, 12))\n",
        "axs[0].imshow(sample_img)\n",
        "axs[0].axis('off')\n",
        "\n",
        "for i in range(4):\n",
        "    axs[i+1].imshow(sample_masks[:, :, i])\n",
        "    axs[i+1].axis('off')"
      ],
      "execution_count": 11,
      "outputs": [
        {
          "output_type": "display_data",
          "data": {
            "image/png": "[encoded data removed]",
            "text/plain": [
              "<Figure size 864x864 with 5 Axes>"
            ]
          },
          "metadata": {
            "tags": []
          }
        }
      ]
    },
    {
      "cell_type": "markdown",
      "metadata": {
        "id": "DAfhj4KcIg2M",
        "colab_type": "text"
      },
      "source": [
        "## Data Generation"
      ]
    },
    {
      "cell_type": "code",
      "metadata": {
        "id": "cC__6-PXIg2M",
        "colab_type": "code",
        "colab": {}
      },
      "source": [
        "class DataGenerator(keras.utils.Sequence):\n",
        "    'Generates data for Keras'\n",
        "    def __init__(self, list_IDs, df, target_df=None, mode='fit',\n",
        "                 base_path='/content/',\n",
        "                 batch_size=32, dim=(256, 1600), n_channels=1,\n",
        "                 n_classes=4, random_state=2019, shuffle=True, \n",
        "                 classify=False):\n",
        "        self.dim = dim\n",
        "        self.batch_size = batch_size\n",
        "        self.df = df\n",
        "        self.mode = mode\n",
        "        self.base_path = base_path\n",
        "        self.target_df = target_df\n",
        "        self.list_IDs = list_IDs\n",
        "        self.n_channels = n_channels\n",
        "        self.n_classes = n_classes\n",
        "        self.shuffle = shuffle\n",
        "        self.random_state = random_state\n",
        "        self.classify = classify\n",
        "        \n",
        "        self.on_epoch_end()\n",
        "\n",
        "    def __len__(self):\n",
        "        'Denotes the number of batches per epoch'\n",
        "        return int(np.floor(len(self.list_IDs) / self.batch_size))\n",
        "\n",
        "    def __getitem__(self, index):\n",
        "        'Generate one batch of data'\n",
        "        # Generate indexes of the batch\n",
        "        indexes = self.indexes[index*self.batch_size:(index+1)*self.batch_size]\n",
        "\n",
        "        # Find list of IDs\n",
        "        list_IDs_batch = [self.list_IDs[k] for k in indexes]\n",
        "        \n",
        "        X = self.__generate_X(list_IDs_batch)\n",
        "        \n",
        "        if self.mode == 'fit':\n",
        "            y = self.__generate_y(list_IDs_batch, self.classify)\n",
        "            return X, y\n",
        "        \n",
        "        elif self.mode == 'predict':\n",
        "            return X\n",
        "\n",
        "        else:\n",
        "            raise AttributeError('The mode parameter should be set to \"fit\" or \"predict\".')\n",
        "    \n",
        "    def on_epoch_end(self):\n",
        "        'Updates indexes after each epoch'\n",
        "        self.indexes = np.arange(len(self.list_IDs))\n",
        "        if self.shuffle == True:\n",
        "            np.random.seed(self.random_state)\n",
        "            np.random.shuffle(self.indexes)\n",
        "    \n",
        "    def __generate_X(self, list_IDs_batch):\n",
        "        'Generates data containing batch_size samples'\n",
        "        # Initialization\n",
        "        X = np.empty((self.batch_size, *self.dim, self.n_channels))\n",
        "        \n",
        "        # Generate data\n",
        "        for i, ID in enumerate(list_IDs_batch):\n",
        "            im_name = self.df['ImageId'].iloc[ID]\n",
        "            img_path = f\"{self.base_path}/{im_name}\"\n",
        "            if self.n_channels == 3:\n",
        "              img = self.__load_rgb(img_path)\n",
        "            else:\n",
        "              img = self.__load_grayscale(img_path)\n",
        "            img = random_flip(img)\n",
        "\n",
        "            # Store samples\n",
        "            X[i,] = img\n",
        "        return X\n",
        "\n",
        "    def __generate_y(self, list_IDs_batch, classify=False):\n",
        "        y = np.empty((self.batch_size, *self.dim, self.n_classes), dtype=int)\n",
        "        if classify:\n",
        "          y = np.empty((self.batch_size, self.n_classes), dtype=int)\n",
        "        \n",
        "        for i, ID in enumerate(list_IDs_batch):\n",
        "            im_name = self.df['ImageId'].iloc[ID]\n",
        "            image_df = self.target_df[self.target_df['ImageId'] == im_name]\n",
        "            rles = image_df['EncodedPixels'].values\n",
        "            if classify:\n",
        "              masks = rles_classvect(rles)\n",
        "            else:\n",
        "              masks = build_masks(rles, input_shape=self.dim)\n",
        "              \n",
        "            y[i, ] = masks\n",
        "        return y\n",
        "    \n",
        "    def __load_grayscale(self, img_path):\n",
        "        img = cv2.imread(img_path, cv2.IMREAD_GRAYSCALE)\n",
        "        img = img.astype(np.float32) / 255.\n",
        "        img = cv2.resize(img, (self.dim[1], self.dim[0]))\n",
        "        img = np.expand_dims(img, axis=-1)\n",
        "        return img\n",
        "    \n",
        "    def __load_rgb(self, img_path):\n",
        "        img = cv2.imread(img_path)\n",
        "        img = cv2.cvtColor(img, cv2.COLOR_BGR2RGB)\n",
        "        img = cv2.resize(img, (self.dim[1], self.dim[0]))\n",
        "        img = img.astype(np.float32) / 255.\n",
        "        return img\n"
      ],
      "execution_count": 0,
      "outputs": []
    },
    {
      "cell_type": "code",
      "metadata": {
        "id": "HsrlhlZHIg2O",
        "colab_type": "code",
        "colab": {}
      },
      "source": [
        "BATCH_SIZE = 16\n",
        "\n",
        "train_idx, val_idx = train_test_split(\n",
        "    maskcountdf.index, random_state=2019, test_size=0.15\n",
        ")\n",
        "\n",
        "train_generator = DataGenerator(\n",
        "    train_idx, \n",
        "    df=maskcountdf,\n",
        "    target_df=traindf,\n",
        "    dim=(64, 400),\n",
        "    batch_size=BATCH_SIZE, \n",
        "    n_classes=4,\n",
        "    n_channels=IMAGE_CHANNELS,\n",
        "    classify=ONLY_CLASSIFY\n",
        ")\n",
        "\n",
        "val_generator = DataGenerator(\n",
        "    val_idx, \n",
        "    df=maskcountdf,\n",
        "    target_df=traindf,\n",
        "    dim=(64, 400),\n",
        "    batch_size=BATCH_SIZE, \n",
        "    n_classes=4,\n",
        "    n_channels=IMAGE_CHANNELS,\n",
        "    classify=ONLY_CLASSIFY\n",
        ")"
      ],
      "execution_count": 0,
      "outputs": []
    },
    {
      "cell_type": "code",
      "metadata": {
        "id": "6nwZIG7uIg2Q",
        "colab_type": "code",
        "colab": {}
      },
      "source": [
        "def build_model(input_shape):\n",
        "\n",
        "    ### Resnet 50\n",
        "    pretrained_model = keras.applications.ResNet50V2(input_shape=input_shape, include_top=False)  #classes=5\n",
        "    model = keras.Sequential([\n",
        "        pretrained_model,\n",
        "        keras.layers.Flatten(),\n",
        "        keras.layers.Dense(16, activation='sigmoid'),\n",
        "        keras.layers.Dense(4, activation='sigmoid')\n",
        "    ])\n",
        "    model.compile(\n",
        "        optimizer=keras.optimizers.SGD(), \n",
        "        loss=keras.losses.binary_crossentropy, \n",
        "        metrics=[tf.metrics.AUC()])\n",
        "    return model"
      ],
      "execution_count": 0,
      "outputs": []
    },
    {
      "cell_type": "code",
      "metadata": {
        "id": "qqSfynzbIg2R",
        "colab_type": "code",
        "colab": {
          "base_uri": "https://localhost:8080/",
          "height": 294
        },
        "outputId": "e8243eca-9667-486c-d2aa-39feaa0417e6"
      },
      "source": [
        "model = build_model((64, 400, IMAGE_CHANNELS))\n",
        "model.summary()"
      ],
      "execution_count": 117,
      "outputs": [
        {
          "output_type": "stream",
          "text": [
            "Model: \"sequential_9\"\n",
            "_________________________________________________________________\n",
            "Layer (type)                 Output Shape              Param #   \n",
            "=================================================================\n",
            "resnet50v2 (Model)           (None, 2, 13, 2048)       23564800  \n",
            "_________________________________________________________________\n",
            "flatten_9 (Flatten)          (None, 53248)             0         \n",
            "_________________________________________________________________\n",
            "dense_9 (Dense)              (None, 16)                851984    \n",
            "_________________________________________________________________\n",
            "dense_10 (Dense)             (None, 4)                 68        \n",
            "=================================================================\n",
            "Total params: 24,416,852\n",
            "Trainable params: 24,371,412\n",
            "Non-trainable params: 45,440\n",
            "_________________________________________________________________\n"
          ],
          "name": "stdout"
        }
      ]
    },
    {
      "cell_type": "code",
      "metadata": {
        "id": "HUUQWt-vIg2T",
        "colab_type": "code",
        "colab": {
          "base_uri": "https://localhost:8080/",
          "height": 1000
        },
        "outputId": "916efed0-a1a7-46b2-f2b8-63c89132acdf"
      },
      "source": [
        "checkpoint = ModelCheckpoint(\n",
        "    'steel_only_defect_resnet50_f1_lyr_model.h5', \n",
        "    monitor='val_auc', \n",
        "    verbose=0, \n",
        "    save_best_only=True, \n",
        "    save_weights_only=False,\n",
        "    model='auto'\n",
        ")\n",
        "\n",
        "history = model.fit_generator(\n",
        "    train_generator,\n",
        "    validation_data=val_generator,\n",
        "    callbacks=[checkpoint],\n",
        "    use_multiprocessing=True,\n",
        "    epochs=40,\n",
        "    verbose=1\n",
        ")"
      ],
      "execution_count": 0,
      "outputs": [
        {
          "output_type": "stream",
          "text": [
            "Epoch 1/40\n",
            "666/667 [============================>.] - ETA: 0s - loss: 0.3073 - auc_1: 0.8715WARNING:tensorflow:Can save best model only with val_auc available, skipping.\n",
            "667/667 [==============================] - 180s 269ms/step - loss: 0.3072 - auc_1: 0.8716 - val_loss: 0.2530 - val_auc_1: 0.9144\n",
            "Epoch 2/40\n",
            "666/667 [============================>.] - ETA: 0s - loss: 0.2279 - auc_1: 0.9370WARNING:tensorflow:Can save best model only with val_auc available, skipping.\n",
            "667/667 [==============================] - 180s 270ms/step - loss: 0.2277 - auc_1: 0.9370 - val_loss: 0.2124 - val_auc_1: 0.9527\n",
            "Epoch 3/40\n",
            "666/667 [============================>.] - ETA: 0s - loss: 0.1869 - auc_1: 0.9653WARNING:tensorflow:Can save best model only with val_auc available, skipping.\n",
            "667/667 [==============================] - 181s 271ms/step - loss: 0.1869 - auc_1: 0.9653 - val_loss: 0.1705 - val_auc_1: 0.9691\n",
            "Epoch 4/40\n",
            "666/667 [============================>.] - ETA: 0s - loss: 0.1558 - auc_1: 0.9767WARNING:tensorflow:Can save best model only with val_auc available, skipping.\n",
            "667/667 [==============================] - 178s 267ms/step - loss: 0.1557 - auc_1: 0.9768 - val_loss: 0.1555 - val_auc_1: 0.9707\n",
            "Epoch 5/40\n",
            "666/667 [============================>.] - ETA: 0s - loss: 0.1333 - auc_1: 0.9821WARNING:tensorflow:Can save best model only with val_auc available, skipping.\n",
            "667/667 [==============================] - 178s 267ms/step - loss: 0.1333 - auc_1: 0.9821 - val_loss: 0.1473 - val_auc_1: 0.9719\n",
            "Epoch 6/40\n",
            "666/667 [============================>.] - ETA: 0s - loss: 0.1159 - auc_1: 0.9866WARNING:tensorflow:Can save best model only with val_auc available, skipping.\n",
            "667/667 [==============================] - 178s 266ms/step - loss: 0.1159 - auc_1: 0.9867 - val_loss: 0.1377 - val_auc_1: 0.9744\n",
            "Epoch 7/40\n",
            "666/667 [============================>.] - ETA: 0s - loss: 0.1027 - auc_1: 0.9895WARNING:tensorflow:Can save best model only with val_auc available, skipping.\n",
            "667/667 [==============================] - 185s 277ms/step - loss: 0.1027 - auc_1: 0.9895 - val_loss: 0.1373 - val_auc_1: 0.9730\n",
            "Epoch 8/40\n",
            "666/667 [============================>.] - ETA: 0s - loss: 0.0911 - auc_1: 0.9913WARNING:tensorflow:Can save best model only with val_auc available, skipping.\n",
            "667/667 [==============================] - 184s 276ms/step - loss: 0.0911 - auc_1: 0.9913 - val_loss: 0.1269 - val_auc_1: 0.9768\n",
            "Epoch 9/40\n",
            "666/667 [============================>.] - ETA: 0s - loss: 0.0824 - auc_1: 0.9931WARNING:tensorflow:Can save best model only with val_auc available, skipping.\n",
            "667/667 [==============================] - 178s 267ms/step - loss: 0.0824 - auc_1: 0.9930 - val_loss: 0.1255 - val_auc_1: 0.9766\n",
            "Epoch 10/40\n",
            "666/667 [============================>.] - ETA: 0s - loss: 0.0760 - auc_1: 0.9941WARNING:tensorflow:Can save best model only with val_auc available, skipping.\n",
            "667/667 [==============================] - 176s 263ms/step - loss: 0.0760 - auc_1: 0.9941 - val_loss: 0.1156 - val_auc_1: 0.9794\n",
            "Epoch 11/40\n",
            "666/667 [============================>.] - ETA: 0s - loss: 0.0697 - auc_1: 0.9953WARNING:tensorflow:Can save best model only with val_auc available, skipping.\n",
            "667/667 [==============================] - 174s 261ms/step - loss: 0.0696 - auc_1: 0.9953 - val_loss: 0.1240 - val_auc_1: 0.9743\n",
            "Epoch 12/40\n",
            "666/667 [============================>.] - ETA: 0s - loss: 0.0639 - auc_1: 0.9962WARNING:tensorflow:Can save best model only with val_auc available, skipping.\n",
            "667/667 [==============================] - 175s 262ms/step - loss: 0.0638 - auc_1: 0.9962 - val_loss: 0.1120 - val_auc_1: 0.9788\n",
            "Epoch 13/40\n",
            "666/667 [============================>.] - ETA: 0s - loss: 0.0601 - auc_1: 0.9966WARNING:tensorflow:Can save best model only with val_auc available, skipping.\n",
            "667/667 [==============================] - 176s 264ms/step - loss: 0.0602 - auc_1: 0.9966 - val_loss: 0.1126 - val_auc_1: 0.9793\n",
            "Epoch 14/40\n",
            "666/667 [============================>.] - ETA: 0s - loss: 0.0559 - auc_1: 0.9969WARNING:tensorflow:Can save best model only with val_auc available, skipping.\n",
            "667/667 [==============================] - 177s 265ms/step - loss: 0.0558 - auc_1: 0.9969 - val_loss: 0.1126 - val_auc_1: 0.9786\n",
            "Epoch 15/40\n",
            "666/667 [============================>.] - ETA: 0s - loss: 0.0517 - auc_1: 0.9977WARNING:tensorflow:Can save best model only with val_auc available, skipping.\n",
            "667/667 [==============================] - 179s 268ms/step - loss: 0.0517 - auc_1: 0.9977 - val_loss: 0.1100 - val_auc_1: 0.9786\n",
            "Epoch 16/40\n",
            "666/667 [============================>.] - ETA: 0s - loss: 0.0488 - auc_1: 0.9979WARNING:tensorflow:Can save best model only with val_auc available, skipping.\n",
            "667/667 [==============================] - 178s 267ms/step - loss: 0.0489 - auc_1: 0.9979 - val_loss: 0.1175 - val_auc_1: 0.9773\n",
            "Epoch 17/40\n",
            "666/667 [============================>.] - ETA: 0s - loss: 0.0450 - auc_1: 0.9983WARNING:tensorflow:Can save best model only with val_auc available, skipping.\n",
            "667/667 [==============================] - 176s 264ms/step - loss: 0.0450 - auc_1: 0.9983 - val_loss: 0.1073 - val_auc_1: 0.9789\n",
            "Epoch 18/40\n",
            "666/667 [============================>.] - ETA: 0s - loss: 0.0423 - auc_1: 0.9984WARNING:tensorflow:Can save best model only with val_auc available, skipping.\n",
            "667/667 [==============================] - 177s 265ms/step - loss: 0.0423 - auc_1: 0.9984 - val_loss: 0.1017 - val_auc_1: 0.9820\n",
            "Epoch 19/40\n",
            "666/667 [============================>.] - ETA: 0s - loss: 0.0413 - auc_1: 0.9984WARNING:tensorflow:Can save best model only with val_auc available, skipping.\n",
            "667/667 [==============================] - 178s 266ms/step - loss: 0.0413 - auc_1: 0.9984 - val_loss: 0.1056 - val_auc_1: 0.9797\n",
            "Epoch 20/40\n",
            "666/667 [============================>.] - ETA: 0s - loss: 0.0385 - auc_1: 0.9987WARNING:tensorflow:Can save best model only with val_auc available, skipping.\n",
            "667/667 [==============================] - 177s 265ms/step - loss: 0.0385 - auc_1: 0.9987 - val_loss: 0.1064 - val_auc_1: 0.9825\n",
            "Epoch 21/40\n",
            "666/667 [============================>.] - ETA: 0s - loss: 0.0358 - auc_1: 0.9990WARNING:tensorflow:Can save best model only with val_auc available, skipping.\n",
            "667/667 [==============================] - 176s 264ms/step - loss: 0.0358 - auc_1: 0.9990 - val_loss: 0.1049 - val_auc_1: 0.9821\n",
            "Epoch 22/40\n",
            "666/667 [============================>.] - ETA: 0s - loss: 0.0338 - auc_1: 0.9989WARNING:tensorflow:Can save best model only with val_auc available, skipping.\n",
            "667/667 [==============================] - 176s 263ms/step - loss: 0.0338 - auc_1: 0.9989 - val_loss: 0.1174 - val_auc_1: 0.9766\n",
            "Epoch 23/40\n",
            "666/667 [============================>.] - ETA: 0s - loss: 0.0328 - auc_1: 0.9991WARNING:tensorflow:Can save best model only with val_auc available, skipping.\n",
            "667/667 [==============================] - 175s 263ms/step - loss: 0.0327 - auc_1: 0.9991 - val_loss: 0.1077 - val_auc_1: 0.9808\n",
            "Epoch 24/40\n",
            "666/667 [============================>.] - ETA: 0s - loss: 0.0311 - auc_1: 0.9990WARNING:tensorflow:Can save best model only with val_auc available, skipping.\n",
            "667/667 [==============================] - 176s 264ms/step - loss: 0.0311 - auc_1: 0.9990 - val_loss: 0.1085 - val_auc_1: 0.9767\n",
            "Epoch 25/40\n",
            "666/667 [============================>.] - ETA: 0s - loss: 0.0293 - auc_1: 0.9991WARNING:tensorflow:Can save best model only with val_auc available, skipping.\n",
            "667/667 [==============================] - 175s 263ms/step - loss: 0.0294 - auc_1: 0.9991 - val_loss: 0.0998 - val_auc_1: 0.9799\n",
            "Epoch 26/40\n",
            "666/667 [============================>.] - ETA: 0s - loss: 0.0282 - auc_1: 0.9994WARNING:tensorflow:Can save best model only with val_auc available, skipping.\n",
            "667/667 [==============================] - 175s 263ms/step - loss: 0.0282 - auc_1: 0.9994 - val_loss: 0.1227 - val_auc_1: 0.9714\n",
            "Epoch 27/40\n",
            "666/667 [============================>.] - ETA: 0s - loss: 0.0265 - auc_1: 0.9995WARNING:tensorflow:Can save best model only with val_auc available, skipping.\n",
            "667/667 [==============================] - 177s 265ms/step - loss: 0.0265 - auc_1: 0.9995 - val_loss: 0.1221 - val_auc_1: 0.9689\n",
            "Epoch 28/40\n",
            "666/667 [============================>.] - ETA: 0s - loss: 0.0269 - auc_1: 0.9995WARNING:tensorflow:Can save best model only with val_auc available, skipping.\n",
            "667/667 [==============================] - 174s 261ms/step - loss: 0.0269 - auc_1: 0.9995 - val_loss: 0.1122 - val_auc_1: 0.9769\n",
            "Epoch 29/40\n",
            "153/667 [=====>........................] - ETA: 2:00 - loss: 0.0252 - auc_1: 0.9995"
          ],
          "name": "stdout"
        }
      ]
    },
    {
      "cell_type": "code",
      "metadata": {
        "id": "FD_BJJWaIg2V",
        "colab_type": "code",
        "colab": {
          "base_uri": "https://localhost:8080/",
          "height": 217
        },
        "outputId": "0e5ab0ff-9200-4057-ecac-297e4ed1a5d6"
      },
      "source": [
        "\n",
        "history_df = pd.DataFrame(history.history)\n",
        "history_df[['loss', 'val_loss']].plot()\n",
        "history_df[['auc', 'val_auc']].plot()"
      ],
      "execution_count": 1,
      "outputs": [
        {
          "output_type": "error",
          "ename": "NameError",
          "evalue": "ignored",
          "traceback": [
            "\u001b[0;31m---------------------------------------------------------------------------\u001b[0m",
            "\u001b[0;31mNameError\u001b[0m                                 Traceback (most recent call last)",
            "\u001b[0;32m<ipython-input-1-145047a2d2e1>\u001b[0m in \u001b[0;36m<module>\u001b[0;34m()\u001b[0m\n\u001b[1;32m      1\u001b[0m \u001b[0;34m\u001b[0m\u001b[0m\n\u001b[0;32m----> 2\u001b[0;31m \u001b[0mhistory_df\u001b[0m \u001b[0;34m=\u001b[0m \u001b[0mpd\u001b[0m\u001b[0;34m.\u001b[0m\u001b[0mDataFrame\u001b[0m\u001b[0;34m(\u001b[0m\u001b[0mhistory\u001b[0m\u001b[0;34m.\u001b[0m\u001b[0mhistory\u001b[0m\u001b[0;34m)\u001b[0m\u001b[0;34m\u001b[0m\u001b[0;34m\u001b[0m\u001b[0m\n\u001b[0m\u001b[1;32m      3\u001b[0m \u001b[0mhistory_df\u001b[0m\u001b[0;34m[\u001b[0m\u001b[0;34m[\u001b[0m\u001b[0;34m'loss'\u001b[0m\u001b[0;34m,\u001b[0m \u001b[0;34m'val_loss'\u001b[0m\u001b[0;34m]\u001b[0m\u001b[0;34m]\u001b[0m\u001b[0;34m.\u001b[0m\u001b[0mplot\u001b[0m\u001b[0;34m(\u001b[0m\u001b[0;34m)\u001b[0m\u001b[0;34m\u001b[0m\u001b[0;34m\u001b[0m\u001b[0m\n\u001b[1;32m      4\u001b[0m \u001b[0mhistory_df\u001b[0m\u001b[0;34m[\u001b[0m\u001b[0;34m[\u001b[0m\u001b[0;34m'auc'\u001b[0m\u001b[0;34m,\u001b[0m \u001b[0;34m'val_auc'\u001b[0m\u001b[0;34m]\u001b[0m\u001b[0;34m]\u001b[0m\u001b[0;34m.\u001b[0m\u001b[0mplot\u001b[0m\u001b[0;34m(\u001b[0m\u001b[0;34m)\u001b[0m\u001b[0;34m\u001b[0m\u001b[0;34m\u001b[0m\u001b[0m\n",
            "\u001b[0;31mNameError\u001b[0m: name 'pd' is not defined"
          ]
        }
      ]
    },
    {
      "cell_type": "code",
      "metadata": {
        "id": "JcMmUpn59Mzm",
        "colab_type": "code",
        "colab": {}
      },
      "source": [
        "model.save('/home/steel_only_defect_resnet50_f1_lyr_model.h5')"
      ],
      "execution_count": 0,
      "outputs": []
    }
  ]
}