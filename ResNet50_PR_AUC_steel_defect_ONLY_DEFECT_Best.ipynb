{
 "cells": [
  {
   "cell_type": "code",
   "execution_count": 0,
   "metadata": {
    "colab": {},
    "colab_type": "code",
    "id": "TOJlh4v2I_AV"
   },
   "outputs": [],
   "source": [
    "import os\n",
    "from google.colab import auth\n",
    "auth.authenticate_user()"
   ]
  },
  {
   "cell_type": "markdown",
   "metadata": {},
   "source": [
    "## Fetching Data"
   ]
  },
  {
   "cell_type": "code",
   "execution_count": 4,
   "metadata": {
    "colab": {
     "base_uri": "https://localhost:8080/",
     "height": 69
    },
    "colab_type": "code",
    "id": "k1aZdh9a6VZC",
    "outputId": "48710d0e-dc1e-44b0-9c75-dfcb5bea5828"
   },
   "outputs": [
    {
     "name": "stdout",
     "output_type": "stream",
     "text": [
      "Copying gs://steel-data/data/train.zip...\n",
      "\\ [1 files][  1.4 GiB/  1.4 GiB]   73.0 MiB/s                                   \n",
      "Operation completed over 1 objects/1.4 GiB.                                      \n"
     ]
    }
   ],
   "source": [
    "\n",
    "!gsutil cp -r gs://steel-data/data/train.zip /content\n"
   ]
  },
  {
   "cell_type": "code",
   "execution_count": 0,
   "metadata": {
    "colab": {},
    "colab_type": "code",
    "id": "Kl6oqZNw9O7i"
   },
   "outputs": [],
   "source": [
    "%%capture\n",
    "!unzip /content/train.zip\n",
    "!gsutil cp -r gs://steel-data/data/train.csv /content\n",
    "!gsutil cp -r gs://steel-data/data/sample_submission.csv /content\n",
    "os.chdir('/content/')"
   ]
  },
  {
   "cell_type": "code",
   "execution_count": 6,
   "metadata": {
    "colab": {
     "base_uri": "https://localhost:8080/",
     "height": 35
    },
    "colab_type": "code",
    "id": "OUL-lmfGYkSV",
    "outputId": "732e2b91-ff81-4a83-f03c-b929708171b9"
   },
   "outputs": [
    {
     "name": "stdout",
     "output_type": "stream",
     "text": [
      "sample_submission.csv\n"
     ]
    }
   ],
   "source": [
    "for file in os.listdir():\n",
    "  if file == \"sample_submission.csv\":\n",
    "    print(file)\n"
   ]
  },
  {
   "cell_type": "code",
   "execution_count": 0,
   "metadata": {
    "colab": {},
    "colab_type": "code",
    "id": "OmeLZyD8Ig11"
   },
   "outputs": [],
   "source": [
    "import os\n",
    "import json\n",
    "import random\n",
    "\n",
    "import cv2\n",
    "import tensorflow as tf\n",
    "import tensorflow.keras as keras\n",
    "from tensorflow.keras import backend as K\n",
    "from tensorflow.keras.models import Model\n",
    "from tensorflow.keras.layers import Input\n",
    "from tensorflow.keras.layers import Conv2D, Conv2DTranspose, MaxPooling2D, concatenate \n",
    "from tensorflow.keras.losses import binary_crossentropy\n",
    "from tensorflow.keras.callbacks import Callback, ModelCheckpoint\n",
    "from tensorflow.keras.preprocessing.image import ImageDataGenerator\n",
    "import matplotlib.pyplot as plt\n",
    "import numpy as np\n",
    "import pandas as pd\n",
    "from tqdm import tqdm\n",
    "from sklearn.model_selection import train_test_split\n"
   ]
  },
  {
   "cell_type": "markdown",
   "metadata": {},
   "source": [
    "## Flags"
   ]
  },
  {
   "cell_type": "code",
   "execution_count": 0,
   "metadata": {
    "colab": {},
    "colab_type": "code",
    "id": "3Tmg3aYS47D4"
   },
   "outputs": [],
   "source": [
    "ONLY_CLASSIFY = True\n",
    "IMAGE_CHANNELS = 3"
   ]
  },
  {
   "cell_type": "markdown",
   "metadata": {
    "colab_type": "text",
    "id": "xkWcb5l7Ig15"
   },
   "source": [
    "## PREPROCESSING"
   ]
  },
  {
   "cell_type": "code",
   "execution_count": 74,
   "metadata": {
    "_cell_guid": "79c7e3d0-c299-4dcb-8224-4455121ee9b0",
    "_uuid": "d629ff2d2480ee46fbb7e2d37f6b5fab8052498a",
    "colab": {
     "base_uri": "https://localhost:8080/",
     "height": 215
    },
    "colab_type": "code",
    "id": "Wl0Y0oqrIg16",
    "outputId": "c6a7fefb-a2b7-417d-830d-601cc8bc6821"
   },
   "outputs": [
    {
     "data": {
      "text/html": [
       "<div>\n",
       "<style scoped>\n",
       "    .dataframe tbody tr th:only-of-type {\n",
       "        vertical-align: middle;\n",
       "    }\n",
       "\n",
       "    .dataframe tbody tr th {\n",
       "        vertical-align: top;\n",
       "    }\n",
       "\n",
       "    .dataframe thead th {\n",
       "        text-align: right;\n",
       "    }\n",
       "</style>\n",
       "<table border=\"1\" class=\"dataframe\">\n",
       "  <thead>\n",
       "    <tr style=\"text-align: right;\">\n",
       "      <th></th>\n",
       "      <th>ImageId_ClassId</th>\n",
       "      <th>EncodedPixels</th>\n",
       "      <th>ImageId</th>\n",
       "      <th>ClassId</th>\n",
       "      <th>hasMask</th>\n",
       "    </tr>\n",
       "  </thead>\n",
       "  <tbody>\n",
       "    <tr>\n",
       "      <th>0</th>\n",
       "      <td>0002cc93b.jpg_1</td>\n",
       "      <td>29102 12 29346 24 29602 24 29858 24 30114 24 3...</td>\n",
       "      <td>0002cc93b.jpg</td>\n",
       "      <td>1</td>\n",
       "      <td>True</td>\n",
       "    </tr>\n",
       "    <tr>\n",
       "      <th>1</th>\n",
       "      <td>0002cc93b.jpg_2</td>\n",
       "      <td>NaN</td>\n",
       "      <td>0002cc93b.jpg</td>\n",
       "      <td>2</td>\n",
       "      <td>False</td>\n",
       "    </tr>\n",
       "    <tr>\n",
       "      <th>2</th>\n",
       "      <td>0002cc93b.jpg_3</td>\n",
       "      <td>NaN</td>\n",
       "      <td>0002cc93b.jpg</td>\n",
       "      <td>3</td>\n",
       "      <td>False</td>\n",
       "    </tr>\n",
       "    <tr>\n",
       "      <th>3</th>\n",
       "      <td>0002cc93b.jpg_4</td>\n",
       "      <td>NaN</td>\n",
       "      <td>0002cc93b.jpg</td>\n",
       "      <td>4</td>\n",
       "      <td>False</td>\n",
       "    </tr>\n",
       "    <tr>\n",
       "      <th>4</th>\n",
       "      <td>00031f466.jpg_1</td>\n",
       "      <td>NaN</td>\n",
       "      <td>00031f466.jpg</td>\n",
       "      <td>1</td>\n",
       "      <td>False</td>\n",
       "    </tr>\n",
       "  </tbody>\n",
       "</table>\n",
       "</div>"
      ],
      "text/plain": [
       "   ImageId_ClassId  ... hasMask\n",
       "0  0002cc93b.jpg_1  ...    True\n",
       "1  0002cc93b.jpg_2  ...   False\n",
       "2  0002cc93b.jpg_3  ...   False\n",
       "3  0002cc93b.jpg_4  ...   False\n",
       "4  00031f466.jpg_1  ...   False\n",
       "\n",
       "[5 rows x 5 columns]"
      ]
     },
     "execution_count": 74,
     "metadata": {
      "tags": []
     },
     "output_type": "execute_result"
    }
   ],
   "source": [
    "traindf=pd.read_csv('train.csv')\n",
    "traindf['ImageId'] = traindf['ImageId_ClassId'].apply(lambda x: x.split('_')[0])\n",
    "traindf['ClassId'] = traindf['ImageId_ClassId'].apply(lambda x: x.split('_')[1])\n",
    "traindf['hasMask'] = ~ traindf['EncodedPixels'].isna()\n",
    "traindf.head()"
   ]
  },
  {
   "cell_type": "markdown",
   "metadata": {
    "colab_type": "text",
    "id": "OwqFnx7ROVpw"
   },
   "source": [
    "### Defect vs Non Defect\n",
    "### Class at 0 is Non defective class, others are defective classes."
   ]
  },
  {
   "cell_type": "code",
   "execution_count": 101,
   "metadata": {
    "colab": {
     "base_uri": "https://localhost:8080/",
     "height": 282
    },
    "colab_type": "code",
    "id": "-Qr4Dl06LNK4",
    "outputId": "b617d225-4292-4786-99a6-e14465e74e12"
   },
   "outputs": [
    {
     "data": {
      "text/plain": [
       "<matplotlib.axes._subplots.AxesSubplot at 0x7f45f161be48>"
      ]
     },
     "execution_count": 101,
     "metadata": {
      "tags": []
     },
     "output_type": "execute_result"
    },
    {
     "data": {
      "image/png": "[encoded data removed]",
      "text/plain": [
       "<Figure size 432x288 with 1 Axes>"
      ]
     },
     "metadata": {
      "tags": []
     },
     "output_type": "display_data"
    }
   ],
   "source": [
    "idf=traindf.groupby('ImageId')['hasMask'].agg(sum)\n",
    "idf.hist()"
   ]
  },
  {
   "cell_type": "code",
   "execution_count": 53,
   "metadata": {
    "colab": {
     "base_uri": "https://localhost:8080/",
     "height": 285
    },
    "colab_type": "code",
    "id": "Q7MWi9zsIg19",
    "outputId": "e95b87e8-7172-455a-8c57-11e4360027d0"
   },
   "outputs": [
    {
     "data": {
      "text/html": [
       "<div>\n",
       "<style scoped>\n",
       "    .dataframe tbody tr th:only-of-type {\n",
       "        vertical-align: middle;\n",
       "    }\n",
       "\n",
       "    .dataframe tbody tr th {\n",
       "        vertical-align: top;\n",
       "    }\n",
       "\n",
       "    .dataframe thead th {\n",
       "        text-align: right;\n",
       "    }\n",
       "</style>\n",
       "<table border=\"1\" class=\"dataframe\">\n",
       "  <thead>\n",
       "    <tr style=\"text-align: right;\">\n",
       "      <th></th>\n",
       "      <th>ImageId_ClassId</th>\n",
       "      <th>EncodedPixels</th>\n",
       "      <th>ImageId</th>\n",
       "      <th>ClassId</th>\n",
       "      <th>hasMask</th>\n",
       "    </tr>\n",
       "  </thead>\n",
       "  <tbody>\n",
       "    <tr>\n",
       "      <th>0</th>\n",
       "      <td>0002cc93b.jpg_1</td>\n",
       "      <td>29102 12 29346 24 29602 24 29858 24 30114 24 3...</td>\n",
       "      <td>0002cc93b.jpg</td>\n",
       "      <td>1</td>\n",
       "      <td>True</td>\n",
       "    </tr>\n",
       "    <tr>\n",
       "      <th>18</th>\n",
       "      <td>0007a71bf.jpg_3</td>\n",
       "      <td>18661 28 18863 82 19091 110 19347 110 19603 11...</td>\n",
       "      <td>0007a71bf.jpg</td>\n",
       "      <td>3</td>\n",
       "      <td>True</td>\n",
       "    </tr>\n",
       "    <tr>\n",
       "      <th>20</th>\n",
       "      <td>000a4bcdd.jpg_1</td>\n",
       "      <td>37607 3 37858 8 38108 14 38359 20 38610 25 388...</td>\n",
       "      <td>000a4bcdd.jpg</td>\n",
       "      <td>1</td>\n",
       "      <td>True</td>\n",
       "    </tr>\n",
       "    <tr>\n",
       "      <th>27</th>\n",
       "      <td>000f6bf48.jpg_4</td>\n",
       "      <td>131973 1 132228 4 132483 6 132738 8 132993 11 ...</td>\n",
       "      <td>000f6bf48.jpg</td>\n",
       "      <td>4</td>\n",
       "      <td>True</td>\n",
       "    </tr>\n",
       "    <tr>\n",
       "      <th>30</th>\n",
       "      <td>0014fce06.jpg_3</td>\n",
       "      <td>229501 11 229741 33 229981 55 230221 77 230468...</td>\n",
       "      <td>0014fce06.jpg</td>\n",
       "      <td>3</td>\n",
       "      <td>True</td>\n",
       "    </tr>\n",
       "  </tbody>\n",
       "</table>\n",
       "</div>"
      ],
      "text/plain": [
       "    ImageId_ClassId  ... hasMask\n",
       "0   0002cc93b.jpg_1  ...    True\n",
       "18  0007a71bf.jpg_3  ...    True\n",
       "20  000a4bcdd.jpg_1  ...    True\n",
       "27  000f6bf48.jpg_4  ...    True\n",
       "30  0014fce06.jpg_3  ...    True\n",
       "\n",
       "[5 rows x 5 columns]"
      ]
     },
     "execution_count": 53,
     "metadata": {
      "tags": []
     },
     "output_type": "execute_result"
    }
   ],
   "source": [
    "traindf= traindf[traindf.hasMask == True]\n",
    "traindf.head()\n"
   ]
  },
  {
   "cell_type": "markdown",
   "metadata": {
    "colab_type": "text",
    "id": "0yCHIFQ0OG1r"
   },
   "source": [
    "### Defect class distribution\n"
   ]
  },
  {
   "cell_type": "code",
   "execution_count": 54,
   "metadata": {
    "colab": {
     "base_uri": "https://localhost:8080/",
     "height": 315
    },
    "colab_type": "code",
    "id": "Uz0mZ_VZKDhR",
    "outputId": "7f4470f5-8193-43b5-fb36-b0c12b6e9cd8"
   },
   "outputs": [
    {
     "data": {
      "text/plain": [
       "array([[<matplotlib.axes._subplots.AxesSubplot object at 0x7f45f2c5abe0>]],\n",
       "      dtype=object)"
      ]
     },
     "execution_count": 54,
     "metadata": {
      "tags": []
     },
     "output_type": "execute_result"
    },
    {
     "data": {
      "image/png": "[encoded data removed]",
      "text/plain": [
       "<Figure size 432x288 with 1 Axes>"
      ]
     },
     "metadata": {
      "tags": []
     },
     "output_type": "display_data"
    }
   ],
   "source": [
    "traindf['Class'] = traindf.ClassId.astype(int)\n",
    "traindf.hist(column=[\"Class\"])"
   ]
  },
  {
   "cell_type": "code",
   "execution_count": 12,
   "metadata": {
    "colab": {
     "base_uri": "https://localhost:8080/",
     "height": 198
    },
    "colab_type": "code",
    "id": "p86gkFjaqYmc",
    "outputId": "fe023c47-ae26-4aab-fd3c-49e1e0dbe4e9"
   },
   "outputs": [
    {
     "data": {
      "text/html": [
       "<div>\n",
       "<style scoped>\n",
       "    .dataframe tbody tr th:only-of-type {\n",
       "        vertical-align: middle;\n",
       "    }\n",
       "\n",
       "    .dataframe tbody tr th {\n",
       "        vertical-align: top;\n",
       "    }\n",
       "\n",
       "    .dataframe thead th {\n",
       "        text-align: right;\n",
       "    }\n",
       "</style>\n",
       "<table border=\"1\" class=\"dataframe\">\n",
       "  <thead>\n",
       "    <tr style=\"text-align: right;\">\n",
       "      <th></th>\n",
       "      <th>ImageId</th>\n",
       "      <th>ClassId</th>\n",
       "    </tr>\n",
       "  </thead>\n",
       "  <tbody>\n",
       "    <tr>\n",
       "      <th>0</th>\n",
       "      <td>0002cc93b.jpg</td>\n",
       "      <td>[1]</td>\n",
       "    </tr>\n",
       "    <tr>\n",
       "      <th>1</th>\n",
       "      <td>0007a71bf.jpg</td>\n",
       "      <td>[3]</td>\n",
       "    </tr>\n",
       "    <tr>\n",
       "      <th>2</th>\n",
       "      <td>000a4bcdd.jpg</td>\n",
       "      <td>[1]</td>\n",
       "    </tr>\n",
       "    <tr>\n",
       "      <th>3</th>\n",
       "      <td>000f6bf48.jpg</td>\n",
       "      <td>[4]</td>\n",
       "    </tr>\n",
       "    <tr>\n",
       "      <th>4</th>\n",
       "      <td>0014fce06.jpg</td>\n",
       "      <td>[3]</td>\n",
       "    </tr>\n",
       "  </tbody>\n",
       "</table>\n",
       "</div>"
      ],
      "text/plain": [
       "         ImageId ClassId\n",
       "0  0002cc93b.jpg     [1]\n",
       "1  0007a71bf.jpg     [3]\n",
       "2  000a4bcdd.jpg     [1]\n",
       "3  000f6bf48.jpg     [4]\n",
       "4  0014fce06.jpg     [3]"
      ]
     },
     "execution_count": 12,
     "metadata": {
      "tags": []
     },
     "output_type": "execute_result"
    }
   ],
   "source": [
    "(filtereddf = traindf.groupby('ImageId')['ClassId'].apply(list).reset_index()\n",
    "filtereddf.head()"
   ]
  },
  {
   "cell_type": "code",
   "execution_count": 0,
   "metadata": {
    "colab": {},
    "colab_type": "code",
    "id": "8R0IboZUq3on"
   },
   "outputs": [],
   "source": [
    "#maskcountdf.ClassId = maskcountdf.ClassId.apply(lambda x : [0 if i == 0 else 1 for i in x])\n",
    "#maskcountdf.head()"
   ]
  },
  {
   "cell_type": "markdown",
   "metadata": {
    "colab_type": "text",
    "id": "DAfhj4KcIg2M"
   },
   "source": [
    "## Data Generation"
   ]
  },
  {
   "cell_type": "code",
   "execution_count": 122,
   "metadata": {
    "colab": {
     "base_uri": "https://localhost:8080/",
     "height": 69
    },
    "colab_type": "code",
    "id": "HsrlhlZHIg2O",
    "outputId": "7e4f7001-d66c-4bba-e79c-e7198ea5fbbc"
   },
   "outputs": [
    {
     "name": "stdout",
     "output_type": "stream",
     "text": [
      "Found 4987 validated image filenames belonging to 4 classes.\n",
      "Found 879 validated image filenames belonging to 4 classes.\n",
      "Found 800 validated image filenames belonging to 4 classes.\n"
     ]
    }
   ],
   "source": [
    "train, test = train_test_split(filtereddf, test_size=0.12)\n",
    "\n",
    "BATCH_SIZE = 16\n",
    "from keras.preprocessing.image import ImageDataGenerator\n",
    "datagen=ImageDataGenerator(rescale=1./255.,\n",
    "                           zoom_range=0.1,\n",
    "                           brightness_range=[0.6,1.0],\n",
    "                           validation_split=0.15,\n",
    "                           horizontal_flip=True,\n",
    "                           vertical_flip=True\n",
    "                           )\n",
    "\n",
    "TRAIN_BATCH_SIZE=26\n",
    "TEST_BATCH_SIZE=8\n",
    "DATA_DIR='/content'\n",
    "IMAGE_SIZE=(64, 400)\n",
    "\n",
    "train_gen=datagen.flow_from_dataframe(\n",
    "    dataframe=train,\n",
    "    x_col=\"ImageId\",\n",
    "    y_col=\"ClassId\",\n",
    "    directory=DATA_DIR,\n",
    "    batch_size=BATCH_SIZE,\n",
    "    seed=42,\n",
    "    shuffle=False,\n",
    "    class_mode='categorical',\n",
    "    target_size=IMAGE_SIZE,\n",
    "    subset='training',\n",
    "  )\n",
    "\n",
    "val_gen=datagen.flow_from_dataframe(\n",
    "    dataframe=train,\n",
    "    x_col=\"ImageId\",\n",
    "    y_col=\"ClassId\",\n",
    "    directory=DATA_DIR,\n",
    "    batch_size=BATCH_SIZE,\n",
    "    seed=42,\n",
    "    shuffle=False,\n",
    "    class_mode='categorical',\n",
    "    target_size=IMAGE_SIZE,\n",
    "    subset='validation'\n",
    ")\n",
    "\n",
    "test_gen=datagen.flow_from_dataframe(\n",
    "    dataframe=test,\n",
    "    x_col=\"ImageId\",\n",
    "    y_col=\"ClassId\",\n",
    "    directory=DATA_DIR,\n",
    "    batch_size=BATCH_SIZE,\n",
    "    seed=42,\n",
    "    shuffle=False,\n",
    "    class_mode='categorical',\n",
    "    target_size=IMAGE_SIZE,\n",
    ")"
   ]
  },
  {
   "cell_type": "markdown",
   "metadata": {},
   "source": [
    "## Resnet 50"
   ]
  },
  {
   "cell_type": "code",
   "execution_count": 0,
   "metadata": {
    "colab": {},
    "colab_type": "code",
    "id": "6nwZIG7uIg2Q"
   },
   "outputs": [],
   "source": [
    "\n",
    "def build_model(input_shape):\n",
    "\n",
    "    ### Resnet 50\n",
    "    pretrained_model = keras.applications.ResNet50V2(input_shape=input_shape, include_top=False)  #classes=5\n",
    "    model = keras.Sequential([\n",
    "        pretrained_model,\n",
    "        keras.layers.Flatten(),\n",
    "        keras.layers.Dense(16, activation='sigmoid'),\n",
    "        keras.layers.Dense(4, activation='sigmoid')\n",
    "    ])\n",
    "    model.compile(\n",
    "        optimizer=keras.optimizers.SGD(), \n",
    "        loss=keras.losses.binary_crossentropy, \n",
    "        metrics=[tf.keras.metrics.Precision(name='precision'),\n",
    "                 tf.keras.metrics.Recall(name='recall'),\n",
    "                 keras.metrics.AUC(name='auc')])\n",
    "    return model"
   ]
  },
  {
   "cell_type": "code",
   "execution_count": 133,
   "metadata": {
    "colab": {
     "base_uri": "https://localhost:8080/",
     "height": 294
    },
    "colab_type": "code",
    "id": "qqSfynzbIg2R",
    "outputId": "e1a1a994-4d17-4392-baf4-7084ceb6e3ec"
   },
   "outputs": [
    {
     "name": "stdout",
     "output_type": "stream",
     "text": [
      "Model: \"sequential_9\"\n",
      "_________________________________________________________________\n",
      "Layer (type)                 Output Shape              Param #   \n",
      "=================================================================\n",
      "resnet50v2 (Model)           (None, 2, 13, 2048)       23564800  \n",
      "_________________________________________________________________\n",
      "flatten_9 (Flatten)          (None, 53248)             0         \n",
      "_________________________________________________________________\n",
      "dense_18 (Dense)             (None, 16)                851984    \n",
      "_________________________________________________________________\n",
      "dense_19 (Dense)             (None, 4)                 68        \n",
      "=================================================================\n",
      "Total params: 24,416,852\n",
      "Trainable params: 24,371,412\n",
      "Non-trainable params: 45,440\n",
      "_________________________________________________________________\n"
     ]
    }
   ],
   "source": [
    "model = build_model((64, 400, IMAGE_CHANNELS))\n",
    "model.summary()"
   ]
  },
  {
   "cell_type": "code",
   "execution_count": 134,
   "metadata": {
    "colab": {
     "base_uri": "https://localhost:8080/",
     "height": 1000
    },
    "colab_type": "code",
    "id": "HUUQWt-vIg2T",
    "outputId": "08ae259d-2c58-470e-c010-b289ea078291"
   },
   "outputs": [
    {
     "name": "stdout",
     "output_type": "stream",
     "text": [
      "Epoch 1/25\n",
      "311/312 [============================>.] - ETA: 0s - loss: 0.3965 - precision: 0.7607 - recall: 0.7238 - auc: 0.8729Epoch 1/25\n",
      "312/312 [==============================] - 116s 373ms/step - loss: 0.3966 - precision: 0.7605 - recall: 0.7236 - auc: 0.8727 - val_loss: 0.3432 - val_precision: 0.7799 - val_recall: 0.7339 - val_auc: 0.9288\n",
      "Epoch 2/25\n",
      "311/312 [============================>.] - ETA: 0s - loss: 0.3231 - precision: 0.7823 - recall: 0.7229 - auc: 0.9370Epoch 1/25\n",
      "312/312 [==============================] - 81s 259ms/step - loss: 0.3228 - precision: 0.7827 - recall: 0.7232 - auc: 0.9372 - val_loss: 0.2951 - val_precision: 0.7917 - val_recall: 0.7339 - val_auc: 0.9483\n",
      "Epoch 3/25\n",
      "311/312 [============================>.] - ETA: 0s - loss: 0.2787 - precision: 0.8300 - recall: 0.7364 - auc: 0.9524Epoch 1/25\n",
      "312/312 [==============================] - 81s 261ms/step - loss: 0.2784 - precision: 0.8303 - recall: 0.7368 - auc: 0.9526 - val_loss: 0.2548 - val_precision: 0.8412 - val_recall: 0.7672 - val_auc: 0.9598\n",
      "Epoch 4/25\n",
      "311/312 [============================>.] - ETA: 0s - loss: 0.2478 - precision: 0.8645 - recall: 0.7579 - auc: 0.9609Epoch 1/25\n",
      "312/312 [==============================] - 81s 261ms/step - loss: 0.2478 - precision: 0.8643 - recall: 0.7581 - auc: 0.9610 - val_loss: 0.2322 - val_precision: 0.9117 - val_recall: 0.7425 - val_auc: 0.9701\n",
      "Epoch 5/25\n",
      "311/312 [============================>.] - ETA: 0s - loss: 0.2259 - precision: 0.8853 - recall: 0.7615 - auc: 0.9672Epoch 1/25\n",
      "312/312 [==============================] - 82s 261ms/step - loss: 0.2259 - precision: 0.8853 - recall: 0.7613 - auc: 0.9671 - val_loss: 0.2123 - val_precision: 0.9019 - val_recall: 0.7790 - val_auc: 0.9697\n",
      "Epoch 6/25\n",
      "311/312 [============================>.] - ETA: 0s - loss: 0.2126 - precision: 0.9016 - recall: 0.7610 - auc: 0.9697Epoch 1/25\n",
      "312/312 [==============================] - 81s 261ms/step - loss: 0.2124 - precision: 0.9017 - recall: 0.7613 - auc: 0.9697 - val_loss: 0.2154 - val_precision: 0.8927 - val_recall: 0.7586 - val_auc: 0.9652\n",
      "Epoch 7/25\n",
      "311/312 [============================>.] - ETA: 0s - loss: 0.1986 - precision: 0.9164 - recall: 0.7680 - auc: 0.9740Epoch 1/25\n",
      "312/312 [==============================] - 81s 261ms/step - loss: 0.1988 - precision: 0.9162 - recall: 0.7675 - auc: 0.9739 - val_loss: 0.1894 - val_precision: 0.9136 - val_recall: 0.7940 - val_auc: 0.9763\n",
      "Epoch 8/25\n",
      "311/312 [============================>.] - ETA: 0s - loss: 0.1913 - precision: 0.9171 - recall: 0.7774 - auc: 0.9758Epoch 1/25\n",
      "312/312 [==============================] - 81s 261ms/step - loss: 0.1916 - precision: 0.9167 - recall: 0.7770 - auc: 0.9757 - val_loss: 0.1788 - val_precision: 0.9280 - val_recall: 0.8155 - val_auc: 0.9791\n",
      "Epoch 9/25\n",
      "311/312 [============================>.] - ETA: 0s - loss: 0.1782 - precision: 0.9315 - recall: 0.8030 - auc: 0.9798Epoch 1/25\n",
      "312/312 [==============================] - 82s 262ms/step - loss: 0.1783 - precision: 0.9313 - recall: 0.8028 - auc: 0.9797 - val_loss: 0.1713 - val_precision: 0.9409 - val_recall: 0.8026 - val_auc: 0.9828\n",
      "Epoch 10/25\n",
      "311/312 [============================>.] - ETA: 0s - loss: 0.1729 - precision: 0.9352 - recall: 0.8150 - auc: 0.9817Epoch 1/25\n",
      "312/312 [==============================] - 82s 262ms/step - loss: 0.1731 - precision: 0.9354 - recall: 0.8143 - auc: 0.9816 - val_loss: 0.1798 - val_precision: 0.9485 - val_recall: 0.8294 - val_auc: 0.9798\n",
      "Epoch 11/25\n",
      "311/312 [============================>.] - ETA: 0s - loss: 0.1636 - precision: 0.9400 - recall: 0.8389 - auc: 0.9837Epoch 1/25\n",
      "312/312 [==============================] - 81s 261ms/step - loss: 0.1635 - precision: 0.9402 - recall: 0.8392 - auc: 0.9837 - val_loss: 0.1698 - val_precision: 0.9235 - val_recall: 0.8423 - val_auc: 0.9790\n",
      "Epoch 12/25\n",
      "311/312 [============================>.] - ETA: 0s - loss: 0.1551 - precision: 0.9463 - recall: 0.8531 - auc: 0.9854Epoch 1/25\n",
      "312/312 [==============================] - 81s 261ms/step - loss: 0.1551 - precision: 0.9464 - recall: 0.8530 - auc: 0.9854 - val_loss: 0.1633 - val_precision: 0.9374 - val_recall: 0.8519 - val_auc: 0.9815\n",
      "Epoch 13/25\n",
      "311/312 [============================>.] - ETA: 0s - loss: 0.1484 - precision: 0.9526 - recall: 0.8605 - auc: 0.9870Epoch 1/25\n",
      "312/312 [==============================] - 83s 265ms/step - loss: 0.1485 - precision: 0.9526 - recall: 0.8602 - auc: 0.9870 - val_loss: 0.1663 - val_precision: 0.9321 - val_recall: 0.8541 - val_auc: 0.9794\n",
      "Epoch 14/25\n",
      "311/312 [============================>.] - ETA: 0s - loss: 0.1450 - precision: 0.9505 - recall: 0.8684 - auc: 0.9874Epoch 1/25\n",
      "312/312 [==============================] - 82s 264ms/step - loss: 0.1448 - precision: 0.9507 - recall: 0.8687 - auc: 0.9875 - val_loss: 0.1551 - val_precision: 0.9332 - val_recall: 0.8691 - val_auc: 0.9816\n",
      "Epoch 15/25\n",
      "311/312 [============================>.] - ETA: 0s - loss: 0.1397 - precision: 0.9505 - recall: 0.8696 - auc: 0.9885Epoch 1/25\n",
      "312/312 [==============================] - 81s 261ms/step - loss: 0.1397 - precision: 0.9505 - recall: 0.8694 - auc: 0.9885 - val_loss: 0.1530 - val_precision: 0.9443 - val_recall: 0.8723 - val_auc: 0.9818\n",
      "Epoch 16/25\n",
      "311/312 [============================>.] - ETA: 0s - loss: 0.1353 - precision: 0.9569 - recall: 0.8749 - auc: 0.9890Epoch 1/25\n",
      "312/312 [==============================] - 81s 259ms/step - loss: 0.1352 - precision: 0.9569 - recall: 0.8749 - auc: 0.9890 - val_loss: 0.1591 - val_precision: 0.9281 - val_recall: 0.8723 - val_auc: 0.9813\n",
      "Epoch 17/25\n",
      "311/312 [============================>.] - ETA: 0s - loss: 0.1296 - precision: 0.9571 - recall: 0.8783 - auc: 0.9901Epoch 1/25\n",
      "312/312 [==============================] - 83s 266ms/step - loss: 0.1294 - precision: 0.9572 - recall: 0.8785 - auc: 0.9901 - val_loss: 0.1553 - val_precision: 0.9331 - val_recall: 0.8680 - val_auc: 0.9804\n",
      "Epoch 18/25\n",
      "311/312 [============================>.] - ETA: 0s - loss: 0.1250 - precision: 0.9613 - recall: 0.8854 - auc: 0.9906Epoch 1/25\n",
      "312/312 [==============================] - 83s 265ms/step - loss: 0.1252 - precision: 0.9611 - recall: 0.8853 - auc: 0.9905 - val_loss: 0.1502 - val_precision: 0.9292 - val_recall: 0.8734 - val_auc: 0.9811\n",
      "Epoch 19/25\n",
      "311/312 [============================>.] - ETA: 0s - loss: 0.1200 - precision: 0.9644 - recall: 0.8912 - auc: 0.9918Epoch 1/25\n",
      "312/312 [==============================] - 83s 265ms/step - loss: 0.1200 - precision: 0.9643 - recall: 0.8911 - auc: 0.9918 - val_loss: 0.1533 - val_precision: 0.9316 - val_recall: 0.8627 - val_auc: 0.9788\n",
      "Epoch 20/25\n",
      "311/312 [============================>.] - ETA: 0s - loss: 0.1176 - precision: 0.9650 - recall: 0.8927 - auc: 0.9920Epoch 1/25\n",
      "312/312 [==============================] - 83s 265ms/step - loss: 0.1177 - precision: 0.9651 - recall: 0.8926 - auc: 0.9920 - val_loss: 0.1496 - val_precision: 0.9264 - val_recall: 0.8777 - val_auc: 0.9803\n",
      "Epoch 21/25\n",
      "311/312 [============================>.] - ETA: 0s - loss: 0.1119 - precision: 0.9662 - recall: 0.8989 - auc: 0.9928Epoch 1/25\n",
      "312/312 [==============================] - 82s 263ms/step - loss: 0.1121 - precision: 0.9661 - recall: 0.8989 - auc: 0.9927 - val_loss: 0.1414 - val_precision: 0.9323 - val_recall: 0.8863 - val_auc: 0.9826\n",
      "Epoch 22/25\n",
      "311/312 [============================>.] - ETA: 0s - loss: 0.1096 - precision: 0.9678 - recall: 0.9040 - auc: 0.9932Epoch 1/25\n",
      "312/312 [==============================] - 81s 260ms/step - loss: 0.1099 - precision: 0.9675 - recall: 0.9040 - auc: 0.9931 - val_loss: 0.1433 - val_precision: 0.9326 - val_recall: 0.8766 - val_auc: 0.9819\n",
      "Epoch 23/25\n",
      "311/312 [============================>.] - ETA: 0s - loss: 0.1071 - precision: 0.9685 - recall: 0.9065 - auc: 0.9933Epoch 1/25\n",
      "312/312 [==============================] - 82s 262ms/step - loss: 0.1068 - precision: 0.9686 - recall: 0.9068 - auc: 0.9933 - val_loss: 0.1471 - val_precision: 0.9288 - val_recall: 0.8820 - val_auc: 0.9799\n",
      "Epoch 24/25\n",
      "311/312 [============================>.] - ETA: 0s - loss: 0.1023 - precision: 0.9721 - recall: 0.9159 - auc: 0.9942Epoch 1/25\n",
      "312/312 [==============================] - 82s 263ms/step - loss: 0.1024 - precision: 0.9720 - recall: 0.9155 - auc: 0.9942 - val_loss: 0.1434 - val_precision: 0.9326 - val_recall: 0.8906 - val_auc: 0.9813\n",
      "Epoch 25/25\n",
      "311/312 [============================>.] - ETA: 0s - loss: 0.0994 - precision: 0.9725 - recall: 0.9188 - auc: 0.9941Epoch 1/25\n",
      "312/312 [==============================] - 82s 262ms/step - loss: 0.0997 - precision: 0.9724 - recall: 0.9187 - auc: 0.9941 - val_loss: 0.1397 - val_precision: 0.9331 - val_recall: 0.8981 - val_auc: 0.9822\n"
     ]
    }
   ],
   "source": [
    "checkpoint = ModelCheckpoint(\n",
    "    'steel_only_defect_resnet50_f1_model.h5', \n",
    "    monitor='val_auc', \n",
    "    verbose=0, \n",
    "    save_best_only=True, \n",
    "    save_weights_only=False,\n",
    "    model='auto'\n",
    ")\n",
    "\n",
    "history = model.fit_generator(\n",
    "    train_gen,\n",
    "    validation_data=val_gen,\n",
    "    callbacks=[checkpoint],\n",
    "    use_multiprocessing=True,\n",
    "    epochs=25,\n",
    "    verbose=1\n",
    ")"
   ]
  },
  {
   "cell_type": "code",
   "execution_count": 135,
   "metadata": {
    "colab": {
     "base_uri": "https://localhost:8080/",
     "height": 535
    },
    "colab_type": "code",
    "id": "FD_BJJWaIg2V",
    "outputId": "0e522c7a-b4e4-4a30-cdc0-d92e11c40a51"
   },
   "outputs": [
    {
     "data": {
      "text/plain": [
       "<matplotlib.axes._subplots.AxesSubplot at 0x7f45dd818940>"
      ]
     },
     "execution_count": 135,
     "metadata": {
      "tags": []
     },
     "output_type": "execute_result"
    },
    {
     "data": {
      "image/png": "[encoded data removed]",
      "text/plain": [
       "<Figure size 432x288 with 1 Axes>"
      ]
     },
     "metadata": {
      "tags": []
     },
     "output_type": "display_data"
    },
    {
     "data": {
      "image/png": "[encoded data removed]",
      "text/plain": [
       "<Figure size 432x288 with 1 Axes>"
      ]
     },
     "metadata": {
      "tags": []
     },
     "output_type": "display_data"
    }
   ],
   "source": [
    "import json\n",
    "\n",
    "history_df = pd.DataFrame(history.history)\n",
    "history_df[['loss', 'val_loss']].plot()\n",
    "history_df[['auc', 'val_auc']].plot()"
   ]
  },
  {
   "cell_type": "code",
   "execution_count": 0,
   "metadata": {
    "colab": {},
    "colab_type": "code",
    "id": "JcMmUpn59Mzm"
   },
   "outputs": [],
   "source": [
    "model.save('/home/steel_only_defect_resnet50_PR_AUC_model.h5')"
   ]
  },
  {
   "cell_type": "markdown",
   "metadata": {},
   "source": [
    "## Test "
   ]
  },
  {
   "cell_type": "code",
   "execution_count": 137,
   "metadata": {
    "colab": {
     "base_uri": "https://localhost:8080/",
     "height": 55
    },
    "colab_type": "code",
    "id": "SrqnlmeOIg2X",
    "outputId": "bae1dfad-6e20-4260-92e9-47d7e065fddd"
   },
   "outputs": [
    {
     "name": "stdout",
     "output_type": "stream",
     "text": [
      "50/50 [==============================] - 11s 229ms/step - loss: 0.1293 - precision: 0.9386 - recall: 0.8853 - auc: 0.9862\n"
     ]
    }
   ],
   "source": [
    "model.load_weights('/home/steel_only_defect_resnet50_PR_AUC_model.h5')\n",
    "\n",
    "batch_pred = model.evaluate_generator(\n",
    "    test_gen, \n",
    "    workers=1,\n",
    "    verbose=1,\n",
    "    use_multiprocessing=False\n",
    ")   "
   ]
  }
 ],
 "metadata": {
  "accelerator": "GPU",
  "colab": {
   "collapsed_sections": [],
   "machine_shape": "hm",
   "name": "ResNet50_PR_AUC_steel_defect_ONLY_DEFECT.ipynb",
   "provenance": [],
   "toc_visible": true
  },
  "kernelspec": {
   "display_name": "Python 3",
   "language": "python",
   "name": "python3"
  },
  "language_info": {
   "codemirror_mode": {
    "name": "ipython",
    "version": 3
   },
   "file_extension": ".py",
   "mimetype": "text/x-python",
   "name": "python",
   "nbconvert_exporter": "python",
   "pygments_lexer": "ipython3",
   "version": "3.7.4"
  }
 },
 "nbformat": 4,
 "nbformat_minor": 1
}
